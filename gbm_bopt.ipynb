{
 "cells": [
  {
   "cell_type": "markdown",
   "metadata": {},
   "source": [
    "# Testing LightGBM Using Titanic Dataset\n",
    "Dataset: https://www.kaggle.com/c/titanic\n",
    "Add feature explantations"
   ]
  },
  {
   "cell_type": "code",
   "execution_count": 1,
   "metadata": {},
   "outputs": [],
   "source": [
    "import numpy as np\n",
    "import pandas as pd\n",
    "import matplotlib.pyplot as plt\n",
    "\n",
    "from sklearn.model_selection import train_test_split, cross_val_score\n",
    "from sklearn.metrics import accuracy_score\n",
    "from sklearn import metrics\n",
    "from sklearn.metrics import confusion_matrix"
   ]
  },
  {
   "cell_type": "code",
   "execution_count": 2,
   "metadata": {},
   "outputs": [],
   "source": [
    "data = pd.read_csv(\"train.csv\")\n",
    "dataFeatures = data[[ 'Pclass', 'SibSp', 'Parch', 'Fare']]"
   ]
  },
  {
   "cell_type": "code",
   "execution_count": 3,
   "metadata": {
    "scrolled": true
   },
   "outputs": [
    {
     "data": {
      "text/plain": [
       "Index(['PassengerId', 'Survived', 'Pclass', 'Name', 'Sex', 'Age', 'SibSp',\n",
       "       'Parch', 'Ticket', 'Fare', 'Cabin', 'Embarked'],\n",
       "      dtype='object')"
      ]
     },
     "execution_count": 3,
     "metadata": {},
     "output_type": "execute_result"
    }
   ],
   "source": [
    "data.columns"
   ]
  },
  {
   "cell_type": "code",
   "execution_count": 4,
   "metadata": {},
   "outputs": [
    {
     "data": {
      "text/html": [
       "<div>\n",
       "<style scoped>\n",
       "    .dataframe tbody tr th:only-of-type {\n",
       "        vertical-align: middle;\n",
       "    }\n",
       "\n",
       "    .dataframe tbody tr th {\n",
       "        vertical-align: top;\n",
       "    }\n",
       "\n",
       "    .dataframe thead th {\n",
       "        text-align: right;\n",
       "    }\n",
       "</style>\n",
       "<table border=\"1\" class=\"dataframe\">\n",
       "  <thead>\n",
       "    <tr style=\"text-align: right;\">\n",
       "      <th></th>\n",
       "      <th>PassengerId</th>\n",
       "      <th>Survived</th>\n",
       "      <th>Pclass</th>\n",
       "      <th>Name</th>\n",
       "      <th>Sex</th>\n",
       "      <th>Age</th>\n",
       "      <th>SibSp</th>\n",
       "      <th>Parch</th>\n",
       "      <th>Ticket</th>\n",
       "      <th>Fare</th>\n",
       "      <th>Cabin</th>\n",
       "      <th>Embarked</th>\n",
       "    </tr>\n",
       "  </thead>\n",
       "  <tbody>\n",
       "    <tr>\n",
       "      <th>0</th>\n",
       "      <td>1</td>\n",
       "      <td>0</td>\n",
       "      <td>3</td>\n",
       "      <td>Braund, Mr. Owen Harris</td>\n",
       "      <td>male</td>\n",
       "      <td>22.0</td>\n",
       "      <td>1</td>\n",
       "      <td>0</td>\n",
       "      <td>A/5 21171</td>\n",
       "      <td>7.2500</td>\n",
       "      <td>NaN</td>\n",
       "      <td>S</td>\n",
       "    </tr>\n",
       "    <tr>\n",
       "      <th>1</th>\n",
       "      <td>2</td>\n",
       "      <td>1</td>\n",
       "      <td>1</td>\n",
       "      <td>Cumings, Mrs. John Bradley (Florence Briggs Th...</td>\n",
       "      <td>female</td>\n",
       "      <td>38.0</td>\n",
       "      <td>1</td>\n",
       "      <td>0</td>\n",
       "      <td>PC 17599</td>\n",
       "      <td>71.2833</td>\n",
       "      <td>C85</td>\n",
       "      <td>C</td>\n",
       "    </tr>\n",
       "    <tr>\n",
       "      <th>2</th>\n",
       "      <td>3</td>\n",
       "      <td>1</td>\n",
       "      <td>3</td>\n",
       "      <td>Heikkinen, Miss. Laina</td>\n",
       "      <td>female</td>\n",
       "      <td>26.0</td>\n",
       "      <td>0</td>\n",
       "      <td>0</td>\n",
       "      <td>STON/O2. 3101282</td>\n",
       "      <td>7.9250</td>\n",
       "      <td>NaN</td>\n",
       "      <td>S</td>\n",
       "    </tr>\n",
       "    <tr>\n",
       "      <th>3</th>\n",
       "      <td>4</td>\n",
       "      <td>1</td>\n",
       "      <td>1</td>\n",
       "      <td>Futrelle, Mrs. Jacques Heath (Lily May Peel)</td>\n",
       "      <td>female</td>\n",
       "      <td>35.0</td>\n",
       "      <td>1</td>\n",
       "      <td>0</td>\n",
       "      <td>113803</td>\n",
       "      <td>53.1000</td>\n",
       "      <td>C123</td>\n",
       "      <td>S</td>\n",
       "    </tr>\n",
       "    <tr>\n",
       "      <th>4</th>\n",
       "      <td>5</td>\n",
       "      <td>0</td>\n",
       "      <td>3</td>\n",
       "      <td>Allen, Mr. William Henry</td>\n",
       "      <td>male</td>\n",
       "      <td>35.0</td>\n",
       "      <td>0</td>\n",
       "      <td>0</td>\n",
       "      <td>373450</td>\n",
       "      <td>8.0500</td>\n",
       "      <td>NaN</td>\n",
       "      <td>S</td>\n",
       "    </tr>\n",
       "    <tr>\n",
       "      <th>5</th>\n",
       "      <td>6</td>\n",
       "      <td>0</td>\n",
       "      <td>3</td>\n",
       "      <td>Moran, Mr. James</td>\n",
       "      <td>male</td>\n",
       "      <td>NaN</td>\n",
       "      <td>0</td>\n",
       "      <td>0</td>\n",
       "      <td>330877</td>\n",
       "      <td>8.4583</td>\n",
       "      <td>NaN</td>\n",
       "      <td>Q</td>\n",
       "    </tr>\n",
       "    <tr>\n",
       "      <th>6</th>\n",
       "      <td>7</td>\n",
       "      <td>0</td>\n",
       "      <td>1</td>\n",
       "      <td>McCarthy, Mr. Timothy J</td>\n",
       "      <td>male</td>\n",
       "      <td>54.0</td>\n",
       "      <td>0</td>\n",
       "      <td>0</td>\n",
       "      <td>17463</td>\n",
       "      <td>51.8625</td>\n",
       "      <td>E46</td>\n",
       "      <td>S</td>\n",
       "    </tr>\n",
       "    <tr>\n",
       "      <th>7</th>\n",
       "      <td>8</td>\n",
       "      <td>0</td>\n",
       "      <td>3</td>\n",
       "      <td>Palsson, Master. Gosta Leonard</td>\n",
       "      <td>male</td>\n",
       "      <td>2.0</td>\n",
       "      <td>3</td>\n",
       "      <td>1</td>\n",
       "      <td>349909</td>\n",
       "      <td>21.0750</td>\n",
       "      <td>NaN</td>\n",
       "      <td>S</td>\n",
       "    </tr>\n",
       "    <tr>\n",
       "      <th>8</th>\n",
       "      <td>9</td>\n",
       "      <td>1</td>\n",
       "      <td>3</td>\n",
       "      <td>Johnson, Mrs. Oscar W (Elisabeth Vilhelmina Berg)</td>\n",
       "      <td>female</td>\n",
       "      <td>27.0</td>\n",
       "      <td>0</td>\n",
       "      <td>2</td>\n",
       "      <td>347742</td>\n",
       "      <td>11.1333</td>\n",
       "      <td>NaN</td>\n",
       "      <td>S</td>\n",
       "    </tr>\n",
       "    <tr>\n",
       "      <th>9</th>\n",
       "      <td>10</td>\n",
       "      <td>1</td>\n",
       "      <td>2</td>\n",
       "      <td>Nasser, Mrs. Nicholas (Adele Achem)</td>\n",
       "      <td>female</td>\n",
       "      <td>14.0</td>\n",
       "      <td>1</td>\n",
       "      <td>0</td>\n",
       "      <td>237736</td>\n",
       "      <td>30.0708</td>\n",
       "      <td>NaN</td>\n",
       "      <td>C</td>\n",
       "    </tr>\n",
       "  </tbody>\n",
       "</table>\n",
       "</div>"
      ],
      "text/plain": [
       "   PassengerId  Survived  Pclass  \\\n",
       "0            1         0       3   \n",
       "1            2         1       1   \n",
       "2            3         1       3   \n",
       "3            4         1       1   \n",
       "4            5         0       3   \n",
       "5            6         0       3   \n",
       "6            7         0       1   \n",
       "7            8         0       3   \n",
       "8            9         1       3   \n",
       "9           10         1       2   \n",
       "\n",
       "                                                Name     Sex   Age  SibSp  \\\n",
       "0                            Braund, Mr. Owen Harris    male  22.0      1   \n",
       "1  Cumings, Mrs. John Bradley (Florence Briggs Th...  female  38.0      1   \n",
       "2                             Heikkinen, Miss. Laina  female  26.0      0   \n",
       "3       Futrelle, Mrs. Jacques Heath (Lily May Peel)  female  35.0      1   \n",
       "4                           Allen, Mr. William Henry    male  35.0      0   \n",
       "5                                   Moran, Mr. James    male   NaN      0   \n",
       "6                            McCarthy, Mr. Timothy J    male  54.0      0   \n",
       "7                     Palsson, Master. Gosta Leonard    male   2.0      3   \n",
       "8  Johnson, Mrs. Oscar W (Elisabeth Vilhelmina Berg)  female  27.0      0   \n",
       "9                Nasser, Mrs. Nicholas (Adele Achem)  female  14.0      1   \n",
       "\n",
       "   Parch            Ticket     Fare Cabin Embarked  \n",
       "0      0         A/5 21171   7.2500   NaN        S  \n",
       "1      0          PC 17599  71.2833   C85        C  \n",
       "2      0  STON/O2. 3101282   7.9250   NaN        S  \n",
       "3      0            113803  53.1000  C123        S  \n",
       "4      0            373450   8.0500   NaN        S  \n",
       "5      0            330877   8.4583   NaN        Q  \n",
       "6      0             17463  51.8625   E46        S  \n",
       "7      1            349909  21.0750   NaN        S  \n",
       "8      2            347742  11.1333   NaN        S  \n",
       "9      0            237736  30.0708   NaN        C  "
      ]
     },
     "execution_count": 4,
     "metadata": {},
     "output_type": "execute_result"
    }
   ],
   "source": [
    "data.head(10)"
   ]
  },
  {
   "cell_type": "markdown",
   "metadata": {},
   "source": [
    "## Creating Training Dataset - All numerical + Dummifying Categorical"
   ]
  },
  {
   "cell_type": "markdown",
   "metadata": {},
   "source": [
    "No Dummies, No Dropping NaN"
   ]
  },
  {
   "cell_type": "code",
   "execution_count": 5,
   "metadata": {},
   "outputs": [],
   "source": [
    "dataFeatures = data[['Pclass','Age', 'SibSp', 'Parch', 'Fare','Sex', 'Embarked']]"
   ]
  },
  {
   "cell_type": "markdown",
   "metadata": {},
   "source": [
    "Categorical Columns Need to be defined as categorical"
   ]
  },
  {
   "cell_type": "code",
   "execution_count": 6,
   "metadata": {},
   "outputs": [
    {
     "name": "stderr",
     "output_type": "stream",
     "text": [
      "/Library/Frameworks/Python.framework/Versions/3.6/lib/python3.6/site-packages/ipykernel_launcher.py:1: SettingWithCopyWarning: \n",
      "A value is trying to be set on a copy of a slice from a DataFrame.\n",
      "Try using .loc[row_indexer,col_indexer] = value instead\n",
      "\n",
      "See the caveats in the documentation: http://pandas.pydata.org/pandas-docs/stable/indexing.html#indexing-view-versus-copy\n",
      "  \"\"\"Entry point for launching an IPython kernel.\n",
      "/Library/Frameworks/Python.framework/Versions/3.6/lib/python3.6/site-packages/ipykernel_launcher.py:2: SettingWithCopyWarning: \n",
      "A value is trying to be set on a copy of a slice from a DataFrame.\n",
      "Try using .loc[row_indexer,col_indexer] = value instead\n",
      "\n",
      "See the caveats in the documentation: http://pandas.pydata.org/pandas-docs/stable/indexing.html#indexing-view-versus-copy\n",
      "  \n"
     ]
    }
   ],
   "source": [
    "dataFeatures[\"Sex\"] = dataFeatures[\"Sex\"].astype('category');\n",
    "dataFeatures[\"Embarked\"] = dataFeatures[\"Embarked\"].astype('category');"
   ]
  },
  {
   "cell_type": "code",
   "execution_count": 7,
   "metadata": {},
   "outputs": [],
   "source": [
    "yvalues = data['Survived']"
   ]
  },
  {
   "cell_type": "markdown",
   "metadata": {},
   "source": [
    "There is a class imbalance"
   ]
  },
  {
   "cell_type": "code",
   "execution_count": 8,
   "metadata": {},
   "outputs": [
    {
     "name": "stdout",
     "output_type": "stream",
     "text": [
      "Class imbalance: Positives: 342 | Negative: 549\n",
      "Predict All Negative Accuracy = 0.62\n"
     ]
    }
   ],
   "source": [
    "print(f\"Class imbalance: Positives: {yvalues[yvalues==1].shape[0]} | Negative: {yvalues[yvalues==0].shape[0]}\")\n",
    "print(f\"Predict All Negative Accuracy = {round(yvalues[yvalues==0].shape[0]/(yvalues[yvalues==1].shape[0] + yvalues[yvalues==0].shape[0]),2)}\")"
   ]
  },
  {
   "cell_type": "code",
   "execution_count": 9,
   "metadata": {
    "scrolled": true
   },
   "outputs": [],
   "source": [
    "X_train, X_test, Y_train, Y_test = train_test_split(dataFeatures, yvalues, test_size = 0.2, random_state = 10)"
   ]
  },
  {
   "cell_type": "code",
   "execution_count": 10,
   "metadata": {},
   "outputs": [
    {
     "data": {
      "text/plain": [
       "Index(['Pclass', 'Age', 'SibSp', 'Parch', 'Fare', 'Sex', 'Embarked'], dtype='object')"
      ]
     },
     "execution_count": 10,
     "metadata": {},
     "output_type": "execute_result"
    }
   ],
   "source": [
    "X_train.columns"
   ]
  },
  {
   "cell_type": "markdown",
   "metadata": {},
   "source": [
    "## Using LightGBM For Classification"
   ]
  },
  {
   "cell_type": "code",
   "execution_count": 11,
   "metadata": {},
   "outputs": [
    {
     "name": "stderr",
     "output_type": "stream",
     "text": [
      "/Library/Frameworks/Python.framework/Versions/3.6/lib/python3.6/site-packages/lightgbm/__init__.py:46: UserWarning: Starting from version 2.2.1, the library file in distribution wheels for macOS is built by the Apple Clang (Xcode_9.4.1) compiler.\n",
      "This means that in case of installing LightGBM from PyPI via the ``pip install lightgbm`` command, you don't need to install the gcc compiler anymore.\n",
      "Instead of that, you need to install the OpenMP library, which is required for running LightGBM on the system with the Apple Clang compiler.\n",
      "You can install the OpenMP library by the following command: ``brew install libomp``.\n",
      "  \"You can install the OpenMP library by the following command: ``brew install libomp``.\", UserWarning)\n"
     ]
    }
   ],
   "source": [
    "import lightgbm as lgb;"
   ]
  },
  {
   "cell_type": "code",
   "execution_count": 12,
   "metadata": {},
   "outputs": [
    {
     "data": {
      "text/plain": [
       "dict_keys(['explained_variance', 'r2', 'neg_median_absolute_error', 'neg_mean_absolute_error', 'neg_mean_squared_error', 'neg_mean_squared_log_error', 'accuracy', 'roc_auc', 'balanced_accuracy', 'average_precision', 'neg_log_loss', 'brier_score_loss', 'adjusted_rand_score', 'homogeneity_score', 'completeness_score', 'v_measure_score', 'mutual_info_score', 'adjusted_mutual_info_score', 'normalized_mutual_info_score', 'fowlkes_mallows_score', 'precision', 'precision_macro', 'precision_micro', 'precision_samples', 'precision_weighted', 'recall', 'recall_macro', 'recall_micro', 'recall_samples', 'recall_weighted', 'f1', 'f1_macro', 'f1_micro', 'f1_samples', 'f1_weighted'])"
      ]
     },
     "execution_count": 12,
     "metadata": {},
     "output_type": "execute_result"
    }
   ],
   "source": [
    "import sklearn\n",
    "sklearn.metrics.SCORERS.keys()"
   ]
  },
  {
   "cell_type": "code",
   "execution_count": 13,
   "metadata": {},
   "outputs": [
    {
     "data": {
      "text/plain": [
       "Index(['Pclass', 'Age', 'SibSp', 'Parch', 'Fare', 'Sex', 'Embarked'], dtype='object')"
      ]
     },
     "execution_count": 13,
     "metadata": {},
     "output_type": "execute_result"
    }
   ],
   "source": [
    "X_train.columns"
   ]
  },
  {
   "cell_type": "code",
   "execution_count": 14,
   "metadata": {},
   "outputs": [],
   "source": [
    "def objective(params):\n",
    "    learning_rate = 10. ** params[0]\n",
    "    num_leaves = params[1]\n",
    "    n_estimators = params[2]\n",
    "    \n",
    "    lgbm = lgb.LGBMClassifier(\n",
    "                        learning_rate=learning_rate,\n",
    "                        num_leaves=num_leaves,\n",
    "                        max_depth=8,\n",
    "                        n_estimators=n_estimators,\n",
    "                        verbose=1,\n",
    "                        )\n",
    "    \n",
    "    return -np.mean(cross_val_score(lgbm, X_train, Y_train, cv=10, scoring='accuracy'))"
   ]
  },
  {
   "cell_type": "markdown",
   "metadata": {},
   "source": [
    "Testing the function with arbitrary parameters"
   ]
  },
  {
   "cell_type": "code",
   "execution_count": 15,
   "metadata": {},
   "outputs": [
    {
     "data": {
      "text/plain": [
       "-0.8146322378716745"
      ]
     },
     "execution_count": 15,
     "metadata": {},
     "output_type": "execute_result"
    }
   ],
   "source": [
    "objective([-2.2380598356874204, 25, 207])"
   ]
  },
  {
   "cell_type": "markdown",
   "metadata": {},
   "source": [
    "## Using Bayesian Optimization For Hyperparameter Tuning"
   ]
  },
  {
   "cell_type": "code",
   "execution_count": 16,
   "metadata": {},
   "outputs": [],
   "source": [
    "from skopt import gp_minimize"
   ]
  },
  {
   "cell_type": "code",
   "execution_count": 17,
   "metadata": {},
   "outputs": [
    {
     "name": "stdout",
     "output_type": "stream",
     "text": [
      "Iteration No: 1 started. Evaluating function at random point.\n",
      "Iteration No: 1 ended. Evaluation done at random point.\n",
      "Time taken: 2.4209\n",
      "Function value obtained: -0.8090\n",
      "Current minimum: -0.8090\n",
      "Iteration No: 2 started. Evaluating function at random point.\n",
      "Iteration No: 2 ended. Evaluation done at random point.\n",
      "Time taken: 2.7007\n",
      "Function value obtained: -0.7808\n",
      "Current minimum: -0.8090\n",
      "Iteration No: 3 started. Evaluating function at random point.\n",
      "Iteration No: 3 ended. Evaluation done at random point.\n",
      "Time taken: 0.5101\n",
      "Function value obtained: -0.8047\n",
      "Current minimum: -0.8090\n",
      "Iteration No: 4 started. Evaluating function at random point.\n",
      "Iteration No: 4 ended. Evaluation done at random point.\n",
      "Time taken: 4.0806\n",
      "Function value obtained: -0.7949\n",
      "Current minimum: -0.8090\n",
      "Iteration No: 5 started. Evaluating function at random point.\n",
      "Iteration No: 5 ended. Evaluation done at random point.\n",
      "Time taken: 0.4913\n",
      "Function value obtained: -0.6067\n",
      "Current minimum: -0.8090\n",
      "Iteration No: 6 started. Evaluating function at random point.\n",
      "Iteration No: 6 ended. Evaluation done at random point.\n",
      "Time taken: 2.0552\n",
      "Function value obtained: -0.7906\n",
      "Current minimum: -0.8090\n",
      "Iteration No: 7 started. Evaluating function at random point.\n",
      "Iteration No: 7 ended. Evaluation done at random point.\n",
      "Time taken: 3.8105\n",
      "Function value obtained: -0.6067\n",
      "Current minimum: -0.8090\n",
      "Iteration No: 8 started. Evaluating function at random point.\n",
      "Iteration No: 8 ended. Evaluation done at random point.\n",
      "Time taken: 3.1918\n",
      "Function value obtained: -0.7963\n",
      "Current minimum: -0.8090\n",
      "Iteration No: 9 started. Evaluating function at random point.\n",
      "Iteration No: 9 ended. Evaluation done at random point.\n",
      "Time taken: 2.2018\n",
      "Function value obtained: -0.6067\n",
      "Current minimum: -0.8090\n",
      "Iteration No: 10 started. Evaluating function at random point.\n",
      "Iteration No: 10 ended. Evaluation done at random point.\n",
      "Time taken: 2.9041\n",
      "Function value obtained: -0.7977\n",
      "Current minimum: -0.8090\n",
      "Iteration No: 11 started. Searching for the next optimal point.\n",
      "Iteration No: 11 ended. Search finished for the next optimal point.\n",
      "Time taken: 0.7690\n",
      "Function value obtained: -0.6067\n",
      "Current minimum: -0.8090\n",
      "Iteration No: 12 started. Searching for the next optimal point.\n",
      "Iteration No: 12 ended. Search finished for the next optimal point.\n",
      "Time taken: 1.4784\n",
      "Function value obtained: -0.7935\n",
      "Current minimum: -0.8090\n",
      "Iteration No: 13 started. Searching for the next optimal point.\n",
      "Iteration No: 13 ended. Search finished for the next optimal point.\n",
      "Time taken: 2.1303\n",
      "Function value obtained: -0.8146\n",
      "Current minimum: -0.8146\n",
      "Iteration No: 14 started. Searching for the next optimal point.\n",
      "Iteration No: 14 ended. Search finished for the next optimal point.\n",
      "Time taken: 3.1494\n",
      "Function value obtained: -0.8245\n",
      "Current minimum: -0.8245\n",
      "Iteration No: 15 started. Searching for the next optimal point.\n",
      "Iteration No: 15 ended. Search finished for the next optimal point.\n",
      "Time taken: 3.9664\n",
      "Function value obtained: -0.8062\n",
      "Current minimum: -0.8245\n",
      "Iteration No: 16 started. Searching for the next optimal point.\n",
      "Iteration No: 16 ended. Search finished for the next optimal point.\n",
      "Time taken: 4.9448\n",
      "Function value obtained: -0.7766\n",
      "Current minimum: -0.8245\n",
      "Iteration No: 17 started. Searching for the next optimal point.\n",
      "Iteration No: 17 ended. Search finished for the next optimal point.\n",
      "Time taken: 0.9964\n",
      "Function value obtained: -0.7782\n",
      "Current minimum: -0.8245\n",
      "Iteration No: 18 started. Searching for the next optimal point.\n",
      "Iteration No: 18 ended. Search finished for the next optimal point.\n",
      "Time taken: 0.7681\n",
      "Function value obtained: -0.6067\n",
      "Current minimum: -0.8245\n",
      "Iteration No: 19 started. Searching for the next optimal point.\n",
      "Iteration No: 19 ended. Search finished for the next optimal point.\n",
      "Time taken: 3.0474\n",
      "Function value obtained: -0.8216\n",
      "Current minimum: -0.8245\n",
      "Iteration No: 20 started. Searching for the next optimal point.\n",
      "Iteration No: 20 ended. Search finished for the next optimal point.\n",
      "Time taken: 2.4985\n",
      "Function value obtained: -0.7724\n",
      "Current minimum: -0.8245\n",
      "Iteration No: 21 started. Searching for the next optimal point.\n",
      "Iteration No: 21 ended. Search finished for the next optimal point.\n",
      "Time taken: 4.9925\n",
      "Function value obtained: -0.7963\n",
      "Current minimum: -0.8245\n",
      "Iteration No: 22 started. Searching for the next optimal point.\n",
      "Iteration No: 22 ended. Search finished for the next optimal point.\n",
      "Time taken: 3.8438\n",
      "Function value obtained: -0.7977\n",
      "Current minimum: -0.8245\n",
      "Iteration No: 23 started. Searching for the next optimal point.\n",
      "Iteration No: 23 ended. Search finished for the next optimal point.\n",
      "Time taken: 0.6744\n",
      "Function value obtained: -0.7782\n",
      "Current minimum: -0.8245\n",
      "Iteration No: 24 started. Searching for the next optimal point.\n",
      "Iteration No: 24 ended. Search finished for the next optimal point.\n",
      "Time taken: 4.5264\n",
      "Function value obtained: -0.7991\n",
      "Current minimum: -0.8245\n",
      "Iteration No: 25 started. Searching for the next optimal point.\n",
      "Iteration No: 25 ended. Search finished for the next optimal point.\n",
      "Time taken: 3.1899\n",
      "Function value obtained: -0.8104\n",
      "Current minimum: -0.8245\n",
      "Iteration No: 26 started. Searching for the next optimal point.\n",
      "Iteration No: 26 ended. Search finished for the next optimal point.\n",
      "Time taken: 0.8990\n",
      "Function value obtained: -0.7768\n",
      "Current minimum: -0.8245\n",
      "Iteration No: 27 started. Searching for the next optimal point.\n",
      "Iteration No: 27 ended. Search finished for the next optimal point.\n",
      "Time taken: 4.9769\n",
      "Function value obtained: -0.8118\n",
      "Current minimum: -0.8245\n",
      "Iteration No: 28 started. Searching for the next optimal point.\n",
      "Iteration No: 28 ended. Search finished for the next optimal point.\n",
      "Time taken: 0.8816\n",
      "Function value obtained: -0.7991\n",
      "Current minimum: -0.8245\n",
      "Iteration No: 29 started. Searching for the next optimal point.\n",
      "Iteration No: 29 ended. Search finished for the next optimal point.\n",
      "Time taken: 3.9659\n",
      "Function value obtained: -0.8160\n",
      "Current minimum: -0.8245\n",
      "Iteration No: 30 started. Searching for the next optimal point.\n",
      "Iteration No: 30 ended. Search finished for the next optimal point.\n",
      "Time taken: 2.4791\n",
      "Function value obtained: -0.8146\n",
      "Current minimum: -0.8245\n",
      "Iteration No: 31 started. Searching for the next optimal point.\n",
      "Iteration No: 31 ended. Search finished for the next optimal point.\n",
      "Time taken: 0.8472\n",
      "Function value obtained: -0.6067\n",
      "Current minimum: -0.8245\n",
      "Iteration No: 32 started. Searching for the next optimal point.\n",
      "Iteration No: 32 ended. Search finished for the next optimal point.\n",
      "Time taken: 1.7099\n",
      "Function value obtained: -0.8230\n",
      "Current minimum: -0.8245\n",
      "Iteration No: 33 started. Searching for the next optimal point.\n",
      "Iteration No: 33 ended. Search finished for the next optimal point.\n",
      "Time taken: 3.9479\n",
      "Function value obtained: -0.7822\n",
      "Current minimum: -0.8245\n",
      "Iteration No: 34 started. Searching for the next optimal point.\n",
      "Iteration No: 34 ended. Search finished for the next optimal point.\n",
      "Time taken: 3.6427\n",
      "Function value obtained: -0.8132\n",
      "Current minimum: -0.8245\n",
      "Iteration No: 35 started. Searching for the next optimal point.\n",
      "Iteration No: 35 ended. Search finished for the next optimal point.\n",
      "Time taken: 3.7061\n",
      "Function value obtained: -0.8090\n",
      "Current minimum: -0.8245\n",
      "Iteration No: 36 started. Searching for the next optimal point.\n",
      "Iteration No: 36 ended. Search finished for the next optimal point.\n",
      "Time taken: 4.3260\n",
      "Function value obtained: -0.6067\n",
      "Current minimum: -0.8245\n",
      "Iteration No: 37 started. Searching for the next optimal point.\n",
      "Iteration No: 37 ended. Search finished for the next optimal point.\n",
      "Time taken: 1.6629\n",
      "Function value obtained: -0.7782\n",
      "Current minimum: -0.8245\n",
      "Iteration No: 38 started. Searching for the next optimal point.\n",
      "Iteration No: 38 ended. Search finished for the next optimal point.\n",
      "Time taken: 3.5868\n",
      "Function value obtained: -0.8230\n",
      "Current minimum: -0.8245\n",
      "Iteration No: 39 started. Searching for the next optimal point.\n",
      "Iteration No: 39 ended. Search finished for the next optimal point.\n",
      "Time taken: 1.0970\n",
      "Function value obtained: -0.7921\n",
      "Current minimum: -0.8245\n",
      "Iteration No: 40 started. Searching for the next optimal point.\n",
      "Iteration No: 40 ended. Search finished for the next optimal point.\n",
      "Time taken: 2.7812\n",
      "Function value obtained: -0.8076\n",
      "Current minimum: -0.8245\n",
      "Iteration No: 41 started. Searching for the next optimal point.\n"
     ]
    },
    {
     "name": "stdout",
     "output_type": "stream",
     "text": [
      "Iteration No: 41 ended. Search finished for the next optimal point.\n",
      "Time taken: 0.9397\n",
      "Function value obtained: -0.7796\n",
      "Current minimum: -0.8245\n",
      "Iteration No: 42 started. Searching for the next optimal point.\n",
      "Iteration No: 42 ended. Search finished for the next optimal point.\n",
      "Time taken: 1.6265\n",
      "Function value obtained: -0.7963\n",
      "Current minimum: -0.8245\n",
      "Iteration No: 43 started. Searching for the next optimal point.\n",
      "Iteration No: 43 ended. Search finished for the next optimal point.\n",
      "Time taken: 2.0464\n",
      "Function value obtained: -0.8202\n",
      "Current minimum: -0.8245\n",
      "Iteration No: 44 started. Searching for the next optimal point.\n",
      "Iteration No: 44 ended. Search finished for the next optimal point.\n",
      "Time taken: 4.2338\n",
      "Function value obtained: -0.8202\n",
      "Current minimum: -0.8245\n",
      "Iteration No: 45 started. Searching for the next optimal point.\n",
      "Iteration No: 45 ended. Search finished for the next optimal point.\n",
      "Time taken: 5.7805\n",
      "Function value obtained: -0.8174\n",
      "Current minimum: -0.8245\n",
      "Iteration No: 46 started. Searching for the next optimal point.\n",
      "Iteration No: 46 ended. Search finished for the next optimal point.\n",
      "Time taken: 3.8636\n",
      "Function value obtained: -0.8202\n",
      "Current minimum: -0.8245\n",
      "Iteration No: 47 started. Searching for the next optimal point.\n",
      "Iteration No: 47 ended. Search finished for the next optimal point.\n",
      "Time taken: 1.1535\n",
      "Function value obtained: -0.8019\n",
      "Current minimum: -0.8245\n",
      "Iteration No: 48 started. Searching for the next optimal point.\n",
      "Iteration No: 48 ended. Search finished for the next optimal point.\n",
      "Time taken: 6.5122\n",
      "Function value obtained: -0.7977\n",
      "Current minimum: -0.8245\n",
      "Iteration No: 49 started. Searching for the next optimal point.\n",
      "Iteration No: 49 ended. Search finished for the next optimal point.\n",
      "Time taken: 1.1748\n",
      "Function value obtained: -0.7922\n",
      "Current minimum: -0.8245\n",
      "Iteration No: 50 started. Searching for the next optimal point.\n",
      "Iteration No: 50 ended. Search finished for the next optimal point.\n",
      "Time taken: 2.1669\n",
      "Function value obtained: -0.8245\n",
      "Current minimum: -0.8245\n",
      "Iteration No: 51 started. Searching for the next optimal point.\n",
      "Iteration No: 51 ended. Search finished for the next optimal point.\n",
      "Time taken: 5.1511\n",
      "Function value obtained: -0.8217\n",
      "Current minimum: -0.8245\n",
      "Iteration No: 52 started. Searching for the next optimal point.\n",
      "Iteration No: 52 ended. Search finished for the next optimal point.\n",
      "Time taken: 4.7562\n",
      "Function value obtained: -0.8146\n",
      "Current minimum: -0.8245\n",
      "Iteration No: 53 started. Searching for the next optimal point.\n",
      "Iteration No: 53 ended. Search finished for the next optimal point.\n",
      "Time taken: 1.2873\n",
      "Function value obtained: -0.7963\n",
      "Current minimum: -0.8245\n",
      "Iteration No: 54 started. Searching for the next optimal point.\n",
      "Iteration No: 54 ended. Search finished for the next optimal point.\n",
      "Time taken: 2.2719\n",
      "Function value obtained: -0.8188\n",
      "Current minimum: -0.8245\n",
      "Iteration No: 55 started. Searching for the next optimal point.\n",
      "Iteration No: 55 ended. Search finished for the next optimal point.\n",
      "Time taken: 4.2676\n",
      "Function value obtained: -0.8174\n",
      "Current minimum: -0.8245\n",
      "Iteration No: 56 started. Searching for the next optimal point.\n",
      "Iteration No: 56 ended. Search finished for the next optimal point.\n",
      "Time taken: 3.0668\n",
      "Function value obtained: -0.8090\n",
      "Current minimum: -0.8245\n",
      "Iteration No: 57 started. Searching for the next optimal point.\n",
      "Iteration No: 57 ended. Search finished for the next optimal point.\n",
      "Time taken: 1.1524\n",
      "Function value obtained: -0.8034\n",
      "Current minimum: -0.8245\n",
      "Iteration No: 58 started. Searching for the next optimal point.\n",
      "Iteration No: 58 ended. Search finished for the next optimal point.\n",
      "Time taken: 3.2754\n",
      "Function value obtained: -0.8160\n",
      "Current minimum: -0.8245\n",
      "Iteration No: 59 started. Searching for the next optimal point.\n",
      "Iteration No: 59 ended. Search finished for the next optimal point.\n",
      "Time taken: 1.2318\n",
      "Function value obtained: -0.7936\n",
      "Current minimum: -0.8245\n",
      "Iteration No: 60 started. Searching for the next optimal point.\n",
      "Iteration No: 60 ended. Search finished for the next optimal point.\n",
      "Time taken: 1.3996\n",
      "Function value obtained: -0.7991\n",
      "Current minimum: -0.8245\n",
      "Iteration No: 61 started. Searching for the next optimal point.\n",
      "Iteration No: 61 ended. Search finished for the next optimal point.\n",
      "Time taken: 2.3212\n",
      "Function value obtained: -0.7851\n",
      "Current minimum: -0.8245\n",
      "Iteration No: 62 started. Searching for the next optimal point.\n",
      "Iteration No: 62 ended. Search finished for the next optimal point.\n",
      "Time taken: 5.7911\n",
      "Function value obtained: -0.8217\n",
      "Current minimum: -0.8245\n",
      "Iteration No: 63 started. Searching for the next optimal point.\n",
      "Iteration No: 63 ended. Search finished for the next optimal point.\n",
      "Time taken: 1.4378\n",
      "Function value obtained: -0.7937\n",
      "Current minimum: -0.8245\n",
      "Iteration No: 64 started. Searching for the next optimal point.\n",
      "Iteration No: 64 ended. Search finished for the next optimal point.\n",
      "Time taken: 4.0011\n",
      "Function value obtained: -0.8189\n",
      "Current minimum: -0.8245\n",
      "Iteration No: 65 started. Searching for the next optimal point.\n",
      "Iteration No: 65 ended. Search finished for the next optimal point.\n",
      "Time taken: 4.5711\n",
      "Function value obtained: -0.8216\n",
      "Current minimum: -0.8245\n",
      "Iteration No: 66 started. Searching for the next optimal point.\n",
      "Iteration No: 66 ended. Search finished for the next optimal point.\n",
      "Time taken: 4.0526\n",
      "Function value obtained: -0.8188\n",
      "Current minimum: -0.8245\n",
      "Iteration No: 67 started. Searching for the next optimal point.\n",
      "Iteration No: 67 ended. Search finished for the next optimal point.\n",
      "Time taken: 3.0398\n",
      "Function value obtained: -0.8189\n",
      "Current minimum: -0.8245\n",
      "Iteration No: 68 started. Searching for the next optimal point.\n",
      "Iteration No: 68 ended. Search finished for the next optimal point.\n",
      "Time taken: 6.0545\n",
      "Function value obtained: -0.8146\n",
      "Current minimum: -0.8245\n",
      "Iteration No: 69 started. Searching for the next optimal point.\n",
      "Iteration No: 69 ended. Search finished for the next optimal point.\n",
      "Time taken: 1.4175\n",
      "Function value obtained: -0.7991\n",
      "Current minimum: -0.8245\n",
      "Iteration No: 70 started. Searching for the next optimal point.\n",
      "Iteration No: 70 ended. Search finished for the next optimal point.\n",
      "Time taken: 2.4529\n",
      "Function value obtained: -0.8230\n",
      "Current minimum: -0.8245\n",
      "Iteration No: 71 started. Searching for the next optimal point.\n",
      "Iteration No: 71 ended. Search finished for the next optimal point.\n",
      "Time taken: 3.6474\n",
      "Function value obtained: -0.7906\n",
      "Current minimum: -0.8245\n",
      "Iteration No: 72 started. Searching for the next optimal point.\n",
      "Iteration No: 72 ended. Search finished for the next optimal point.\n",
      "Time taken: 4.1881\n",
      "Function value obtained: -0.8132\n",
      "Current minimum: -0.8245\n",
      "Iteration No: 73 started. Searching for the next optimal point.\n",
      "Iteration No: 73 ended. Search finished for the next optimal point.\n",
      "Time taken: 2.4778\n",
      "Function value obtained: -0.8230\n",
      "Current minimum: -0.8245\n",
      "Iteration No: 74 started. Searching for the next optimal point.\n",
      "Iteration No: 74 ended. Search finished for the next optimal point.\n",
      "Time taken: 1.4153\n",
      "Function value obtained: -0.7978\n",
      "Current minimum: -0.8245\n",
      "Iteration No: 75 started. Searching for the next optimal point.\n",
      "Iteration No: 75 ended. Search finished for the next optimal point.\n",
      "Time taken: 6.6786\n",
      "Function value obtained: -0.8146\n",
      "Current minimum: -0.8245\n",
      "Iteration No: 76 started. Searching for the next optimal point.\n",
      "Iteration No: 76 ended. Search finished for the next optimal point.\n",
      "Time taken: 6.8678\n",
      "Function value obtained: -0.8189\n",
      "Current minimum: -0.8245\n",
      "Iteration No: 77 started. Searching for the next optimal point.\n",
      "Iteration No: 77 ended. Search finished for the next optimal point.\n",
      "Time taken: 10.2622\n",
      "Function value obtained: -0.8202\n",
      "Current minimum: -0.8245\n",
      "Iteration No: 78 started. Searching for the next optimal point.\n",
      "Iteration No: 78 ended. Search finished for the next optimal point.\n",
      "Time taken: 4.9432\n",
      "Function value obtained: -0.8217\n",
      "Current minimum: -0.8245\n",
      "Iteration No: 79 started. Searching for the next optimal point.\n",
      "Iteration No: 79 ended. Search finished for the next optimal point.\n",
      "Time taken: 4.3472\n",
      "Function value obtained: -0.8188\n",
      "Current minimum: -0.8245\n",
      "Iteration No: 80 started. Searching for the next optimal point.\n",
      "Iteration No: 80 ended. Search finished for the next optimal point.\n",
      "Time taken: 3.6024\n",
      "Function value obtained: -0.8245\n",
      "Current minimum: -0.8245\n",
      "Iteration No: 81 started. Searching for the next optimal point.\n"
     ]
    },
    {
     "name": "stdout",
     "output_type": "stream",
     "text": [
      "Iteration No: 81 ended. Search finished for the next optimal point.\n",
      "Time taken: 1.5552\n",
      "Function value obtained: -0.6067\n",
      "Current minimum: -0.8245\n",
      "Iteration No: 82 started. Searching for the next optimal point.\n",
      "Iteration No: 82 ended. Search finished for the next optimal point.\n",
      "Time taken: 2.2287\n",
      "Function value obtained: -0.7991\n",
      "Current minimum: -0.8245\n",
      "Iteration No: 83 started. Searching for the next optimal point.\n",
      "Iteration No: 83 ended. Search finished for the next optimal point.\n",
      "Time taken: 2.9139\n",
      "Function value obtained: -0.8160\n",
      "Current minimum: -0.8245\n",
      "Iteration No: 84 started. Searching for the next optimal point.\n",
      "Iteration No: 84 ended. Search finished for the next optimal point.\n",
      "Time taken: 6.8717\n",
      "Function value obtained: -0.8160\n",
      "Current minimum: -0.8245\n",
      "Iteration No: 85 started. Searching for the next optimal point.\n",
      "Iteration No: 85 ended. Search finished for the next optimal point.\n",
      "Time taken: 3.4903\n",
      "Function value obtained: -0.8146\n",
      "Current minimum: -0.8245\n",
      "Iteration No: 86 started. Searching for the next optimal point.\n",
      "Iteration No: 86 ended. Search finished for the next optimal point.\n",
      "Time taken: 2.4281\n",
      "Function value obtained: -0.8216\n",
      "Current minimum: -0.8245\n",
      "Iteration No: 87 started. Searching for the next optimal point.\n",
      "Iteration No: 87 ended. Search finished for the next optimal point.\n",
      "Time taken: 3.8446\n",
      "Function value obtained: -0.8132\n",
      "Current minimum: -0.8245\n",
      "Iteration No: 88 started. Searching for the next optimal point.\n",
      "Iteration No: 88 ended. Search finished for the next optimal point.\n",
      "Time taken: 1.6687\n",
      "Function value obtained: -0.8005\n",
      "Current minimum: -0.8245\n",
      "Iteration No: 89 started. Searching for the next optimal point.\n",
      "Iteration No: 89 ended. Search finished for the next optimal point.\n",
      "Time taken: 4.1792\n",
      "Function value obtained: -0.8202\n",
      "Current minimum: -0.8245\n",
      "Iteration No: 90 started. Searching for the next optimal point.\n",
      "Iteration No: 90 ended. Search finished for the next optimal point.\n",
      "Time taken: 5.0904\n",
      "Function value obtained: -0.8202\n",
      "Current minimum: -0.8245\n",
      "Iteration No: 91 started. Searching for the next optimal point.\n",
      "Iteration No: 91 ended. Search finished for the next optimal point.\n",
      "Time taken: 3.2069\n",
      "Function value obtained: -0.6067\n",
      "Current minimum: -0.8245\n",
      "Iteration No: 92 started. Searching for the next optimal point.\n",
      "Iteration No: 92 ended. Search finished for the next optimal point.\n",
      "Time taken: 4.3661\n",
      "Function value obtained: -0.8034\n",
      "Current minimum: -0.8245\n",
      "Iteration No: 93 started. Searching for the next optimal point.\n",
      "Iteration No: 93 ended. Search finished for the next optimal point.\n",
      "Time taken: 3.7672\n",
      "Function value obtained: -0.7950\n",
      "Current minimum: -0.8245\n",
      "Iteration No: 94 started. Searching for the next optimal point.\n",
      "Iteration No: 94 ended. Search finished for the next optimal point.\n",
      "Time taken: 2.0745\n",
      "Function value obtained: -0.6067\n",
      "Current minimum: -0.8245\n",
      "Iteration No: 95 started. Searching for the next optimal point.\n",
      "Iteration No: 95 ended. Search finished for the next optimal point.\n",
      "Time taken: 6.6380\n",
      "Function value obtained: -0.8160\n",
      "Current minimum: -0.8245\n",
      "Iteration No: 96 started. Searching for the next optimal point.\n",
      "Iteration No: 96 ended. Search finished for the next optimal point.\n",
      "Time taken: 7.4481\n",
      "Function value obtained: -0.8104\n",
      "Current minimum: -0.8245\n",
      "Iteration No: 97 started. Searching for the next optimal point.\n",
      "Iteration No: 97 ended. Search finished for the next optimal point.\n",
      "Time taken: 3.1856\n",
      "Function value obtained: -0.8132\n",
      "Current minimum: -0.8245\n",
      "Iteration No: 98 started. Searching for the next optimal point.\n",
      "Iteration No: 98 ended. Search finished for the next optimal point.\n",
      "Time taken: 6.0721\n",
      "Function value obtained: -0.8146\n",
      "Current minimum: -0.8245\n",
      "Iteration No: 99 started. Searching for the next optimal point.\n",
      "Iteration No: 99 ended. Search finished for the next optimal point.\n",
      "Time taken: 2.3436\n",
      "Function value obtained: -0.7908\n",
      "Current minimum: -0.8245\n",
      "Iteration No: 100 started. Searching for the next optimal point.\n",
      "Iteration No: 100 ended. Search finished for the next optimal point.\n",
      "Time taken: 4.5705\n",
      "Function value obtained: -0.7921\n",
      "Current minimum: -0.8245\n",
      "Iteration No: 101 started. Searching for the next optimal point.\n",
      "Iteration No: 101 ended. Search finished for the next optimal point.\n",
      "Time taken: 4.3673\n",
      "Function value obtained: -0.8019\n",
      "Current minimum: -0.8245\n",
      "Iteration No: 102 started. Searching for the next optimal point.\n",
      "Iteration No: 102 ended. Search finished for the next optimal point.\n",
      "Time taken: 5.0829\n",
      "Function value obtained: -0.8245\n",
      "Current minimum: -0.8245\n",
      "Iteration No: 103 started. Searching for the next optimal point.\n",
      "Iteration No: 103 ended. Search finished for the next optimal point.\n",
      "Time taken: 2.0951\n",
      "Function value obtained: -0.6067\n",
      "Current minimum: -0.8245\n",
      "Iteration No: 104 started. Searching for the next optimal point.\n",
      "Iteration No: 104 ended. Search finished for the next optimal point.\n",
      "Time taken: 6.5313\n",
      "Function value obtained: -0.8033\n",
      "Current minimum: -0.8245\n",
      "Iteration No: 105 started. Searching for the next optimal point.\n",
      "Iteration No: 105 ended. Search finished for the next optimal point.\n",
      "Time taken: 4.2302\n",
      "Function value obtained: -0.8230\n",
      "Current minimum: -0.8245\n",
      "Iteration No: 106 started. Searching for the next optimal point.\n",
      "Iteration No: 106 ended. Search finished for the next optimal point.\n",
      "Time taken: 7.9385\n",
      "Function value obtained: -0.7766\n",
      "Current minimum: -0.8245\n",
      "Iteration No: 107 started. Searching for the next optimal point.\n",
      "Iteration No: 107 ended. Search finished for the next optimal point.\n",
      "Time taken: 6.6522\n",
      "Function value obtained: -0.8160\n",
      "Current minimum: -0.8245\n",
      "Iteration No: 108 started. Searching for the next optimal point.\n",
      "Iteration No: 108 ended. Search finished for the next optimal point.\n",
      "Time taken: 8.0451\n",
      "Function value obtained: -0.8189\n",
      "Current minimum: -0.8245\n",
      "Iteration No: 109 started. Searching for the next optimal point.\n",
      "Iteration No: 109 ended. Search finished for the next optimal point.\n",
      "Time taken: 9.2467\n",
      "Function value obtained: -0.8217\n",
      "Current minimum: -0.8245\n",
      "Iteration No: 110 started. Searching for the next optimal point.\n",
      "Iteration No: 110 ended. Search finished for the next optimal point.\n",
      "Time taken: 3.1708\n",
      "Function value obtained: -0.7893\n",
      "Current minimum: -0.8245\n",
      "Iteration No: 111 started. Searching for the next optimal point.\n",
      "Iteration No: 111 ended. Search finished for the next optimal point.\n",
      "Time taken: 5.2965\n",
      "Function value obtained: -0.8202\n",
      "Current minimum: -0.8245\n",
      "Iteration No: 112 started. Searching for the next optimal point.\n",
      "Iteration No: 112 ended. Search finished for the next optimal point.\n",
      "Time taken: 3.6017\n",
      "Function value obtained: -0.7837\n",
      "Current minimum: -0.8245\n",
      "Iteration No: 113 started. Searching for the next optimal point.\n",
      "Iteration No: 113 ended. Search finished for the next optimal point.\n",
      "Time taken: 4.5140\n",
      "Function value obtained: -0.8188\n",
      "Current minimum: -0.8245\n",
      "Iteration No: 114 started. Searching for the next optimal point.\n",
      "Iteration No: 114 ended. Search finished for the next optimal point.\n",
      "Time taken: 3.9874\n",
      "Function value obtained: -0.8146\n",
      "Current minimum: -0.8245\n",
      "Iteration No: 115 started. Searching for the next optimal point.\n",
      "Iteration No: 115 ended. Search finished for the next optimal point.\n",
      "Time taken: 3.8059\n",
      "Function value obtained: -0.8188\n",
      "Current minimum: -0.8245\n",
      "Iteration No: 116 started. Searching for the next optimal point.\n",
      "Iteration No: 116 ended. Search finished for the next optimal point.\n",
      "Time taken: 2.6732\n",
      "Function value obtained: -0.6067\n",
      "Current minimum: -0.8245\n",
      "Iteration No: 117 started. Searching for the next optimal point.\n",
      "Iteration No: 117 ended. Search finished for the next optimal point.\n",
      "Time taken: 6.4790\n",
      "Function value obtained: -0.8189\n",
      "Current minimum: -0.8245\n",
      "Iteration No: 118 started. Searching for the next optimal point.\n",
      "Iteration No: 118 ended. Search finished for the next optimal point.\n",
      "Time taken: 11.1152\n",
      "Function value obtained: -0.7878\n",
      "Current minimum: -0.8245\n",
      "Iteration No: 119 started. Searching for the next optimal point.\n",
      "Iteration No: 119 ended. Search finished for the next optimal point.\n",
      "Time taken: 5.6398\n",
      "Function value obtained: -0.8216\n",
      "Current minimum: -0.8245\n",
      "Iteration No: 120 started. Searching for the next optimal point.\n"
     ]
    },
    {
     "name": "stdout",
     "output_type": "stream",
     "text": [
      "Iteration No: 120 ended. Search finished for the next optimal point.\n",
      "Time taken: 5.5066\n",
      "Function value obtained: -0.8188\n",
      "Current minimum: -0.8245\n",
      "Iteration No: 121 started. Searching for the next optimal point.\n",
      "Iteration No: 121 ended. Search finished for the next optimal point.\n",
      "Time taken: 9.1933\n",
      "Function value obtained: -0.7977\n",
      "Current minimum: -0.8245\n",
      "Iteration No: 122 started. Searching for the next optimal point.\n",
      "Iteration No: 122 ended. Search finished for the next optimal point.\n",
      "Time taken: 5.4397\n",
      "Function value obtained: -0.8160\n",
      "Current minimum: -0.8245\n",
      "Iteration No: 123 started. Searching for the next optimal point.\n",
      "Iteration No: 123 ended. Search finished for the next optimal point.\n",
      "Time taken: 6.2517\n",
      "Function value obtained: -0.8216\n",
      "Current minimum: -0.8245\n",
      "Iteration No: 124 started. Searching for the next optimal point.\n",
      "Iteration No: 124 ended. Search finished for the next optimal point.\n",
      "Time taken: 7.2724\n",
      "Function value obtained: -0.8245\n",
      "Current minimum: -0.8245\n",
      "Iteration No: 125 started. Searching for the next optimal point.\n",
      "Iteration No: 125 ended. Search finished for the next optimal point.\n",
      "Time taken: 11.4980\n",
      "Function value obtained: -0.8230\n",
      "Current minimum: -0.8245\n",
      "Iteration No: 126 started. Searching for the next optimal point.\n",
      "Iteration No: 126 ended. Search finished for the next optimal point.\n",
      "Time taken: 13.3013\n",
      "Function value obtained: -0.8216\n",
      "Current minimum: -0.8245\n",
      "Iteration No: 127 started. Searching for the next optimal point.\n",
      "Iteration No: 127 ended. Search finished for the next optimal point.\n",
      "Time taken: 3.3563\n",
      "Function value obtained: -0.7782\n",
      "Current minimum: -0.8245\n",
      "Iteration No: 128 started. Searching for the next optimal point.\n",
      "Iteration No: 128 ended. Search finished for the next optimal point.\n",
      "Time taken: 7.2551\n",
      "Function value obtained: -0.8245\n",
      "Current minimum: -0.8245\n",
      "Iteration No: 129 started. Searching for the next optimal point.\n",
      "Iteration No: 129 ended. Search finished for the next optimal point.\n",
      "Time taken: 9.1918\n",
      "Function value obtained: -0.8202\n",
      "Current minimum: -0.8245\n",
      "Iteration No: 130 started. Searching for the next optimal point.\n",
      "Iteration No: 130 ended. Search finished for the next optimal point.\n",
      "Time taken: 8.9793\n",
      "Function value obtained: -0.8202\n",
      "Current minimum: -0.8245\n",
      "Iteration No: 131 started. Searching for the next optimal point.\n",
      "Iteration No: 131 ended. Search finished for the next optimal point.\n",
      "Time taken: 8.4247\n",
      "Function value obtained: -0.8202\n",
      "Current minimum: -0.8245\n",
      "Iteration No: 132 started. Searching for the next optimal point.\n",
      "Iteration No: 132 ended. Search finished for the next optimal point.\n",
      "Time taken: 5.3406\n",
      "Function value obtained: -0.8216\n",
      "Current minimum: -0.8245\n",
      "Iteration No: 133 started. Searching for the next optimal point.\n",
      "Iteration No: 133 ended. Search finished for the next optimal point.\n",
      "Time taken: 5.9692\n",
      "Function value obtained: -0.7991\n",
      "Current minimum: -0.8245\n",
      "Iteration No: 134 started. Searching for the next optimal point.\n",
      "Iteration No: 134 ended. Search finished for the next optimal point.\n",
      "Time taken: 6.3201\n",
      "Function value obtained: -0.6911\n",
      "Current minimum: -0.8245\n",
      "Iteration No: 135 started. Searching for the next optimal point.\n",
      "Iteration No: 135 ended. Search finished for the next optimal point.\n",
      "Time taken: 6.0435\n",
      "Function value obtained: -0.8188\n",
      "Current minimum: -0.8245\n",
      "Iteration No: 136 started. Searching for the next optimal point.\n",
      "Iteration No: 136 ended. Search finished for the next optimal point.\n",
      "Time taken: 5.7785\n",
      "Function value obtained: -0.8216\n",
      "Current minimum: -0.8245\n",
      "Iteration No: 137 started. Searching for the next optimal point.\n",
      "Iteration No: 137 ended. Search finished for the next optimal point.\n",
      "Time taken: 6.0533\n",
      "Function value obtained: -0.8202\n",
      "Current minimum: -0.8245\n",
      "Iteration No: 138 started. Searching for the next optimal point.\n",
      "Iteration No: 138 ended. Search finished for the next optimal point.\n",
      "Time taken: 5.1095\n",
      "Function value obtained: -0.8202\n",
      "Current minimum: -0.8245\n",
      "Iteration No: 139 started. Searching for the next optimal point.\n",
      "Iteration No: 139 ended. Search finished for the next optimal point.\n",
      "Time taken: 4.4411\n",
      "Function value obtained: -0.8132\n",
      "Current minimum: -0.8245\n",
      "Iteration No: 140 started. Searching for the next optimal point.\n",
      "Iteration No: 140 ended. Search finished for the next optimal point.\n",
      "Time taken: 4.3928\n",
      "Function value obtained: -0.8202\n",
      "Current minimum: -0.8245\n",
      "Iteration No: 141 started. Searching for the next optimal point.\n",
      "Iteration No: 141 ended. Search finished for the next optimal point.\n",
      "Time taken: 4.1734\n",
      "Function value obtained: -0.8202\n",
      "Current minimum: -0.8245\n",
      "Iteration No: 142 started. Searching for the next optimal point.\n",
      "Iteration No: 142 ended. Search finished for the next optimal point.\n",
      "Time taken: 6.9534\n",
      "Function value obtained: -0.8146\n",
      "Current minimum: -0.8245\n",
      "Iteration No: 143 started. Searching for the next optimal point.\n",
      "Iteration No: 143 ended. Search finished for the next optimal point.\n",
      "Time taken: 5.5171\n",
      "Function value obtained: -0.8189\n",
      "Current minimum: -0.8245\n",
      "Iteration No: 144 started. Searching for the next optimal point.\n",
      "Iteration No: 144 ended. Search finished for the next optimal point.\n",
      "Time taken: 4.2868\n",
      "Function value obtained: -0.8230\n",
      "Current minimum: -0.8245\n",
      "Iteration No: 145 started. Searching for the next optimal point.\n",
      "Iteration No: 145 ended. Search finished for the next optimal point.\n",
      "Time taken: 3.9708\n",
      "Function value obtained: -0.8216\n",
      "Current minimum: -0.8245\n",
      "Iteration No: 146 started. Searching for the next optimal point.\n",
      "Iteration No: 146 ended. Search finished for the next optimal point.\n",
      "Time taken: 6.3638\n",
      "Function value obtained: -0.8188\n",
      "Current minimum: -0.8245\n",
      "Iteration No: 147 started. Searching for the next optimal point.\n",
      "Iteration No: 147 ended. Search finished for the next optimal point.\n",
      "Time taken: 9.3015\n",
      "Function value obtained: -0.8230\n",
      "Current minimum: -0.8245\n",
      "Iteration No: 148 started. Searching for the next optimal point.\n",
      "Iteration No: 148 ended. Search finished for the next optimal point.\n",
      "Time taken: 7.5323\n",
      "Function value obtained: -0.8230\n",
      "Current minimum: -0.8245\n",
      "Iteration No: 149 started. Searching for the next optimal point.\n",
      "Iteration No: 149 ended. Search finished for the next optimal point.\n",
      "Time taken: 5.7568\n",
      "Function value obtained: -0.8132\n",
      "Current minimum: -0.8245\n",
      "Iteration No: 150 started. Searching for the next optimal point.\n",
      "Iteration No: 150 ended. Search finished for the next optimal point.\n",
      "Time taken: 6.6537\n",
      "Function value obtained: -0.8230\n",
      "Current minimum: -0.8245\n"
     ]
    }
   ],
   "source": [
    "space = [(-5.0,0.0),(2,100),(2,300)]\n",
    "\n",
    "r = gp_minimize(objective, space, n_calls=150, random_state=0,n_jobs=-1,verbose=True)"
   ]
  },
  {
   "cell_type": "code",
   "execution_count": 18,
   "metadata": {},
   "outputs": [
    {
     "data": {
      "text/plain": [
       "[-2.1291404241284884, 36, 229]"
      ]
     },
     "execution_count": 18,
     "metadata": {},
     "output_type": "execute_result"
    }
   ],
   "source": [
    "best_params = r.x\n",
    "best_params"
   ]
  },
  {
   "cell_type": "code",
   "execution_count": 19,
   "metadata": {},
   "outputs": [
    {
     "data": {
      "text/plain": [
       "-0.8244522691705791"
      ]
     },
     "execution_count": 19,
     "metadata": {},
     "output_type": "execute_result"
    }
   ],
   "source": [
    "r.fun"
   ]
  },
  {
   "cell_type": "code",
   "execution_count": 20,
   "metadata": {},
   "outputs": [
    {
     "data": {
      "image/png": "[encoded data removed]",
      "text/plain": [
       "<Figure size 432x288 with 1 Axes>"
      ]
     },
     "metadata": {
      "needs_background": "light"
     },
     "output_type": "display_data"
    }
   ],
   "source": [
    "from skopt.plots import plot_convergence\n",
    "\n",
    "plot_convergence(r);"
   ]
  },
  {
   "cell_type": "markdown",
   "metadata": {},
   "source": [
    "## Move Parameters to Final LightGBM Model  "
   ]
  },
  {
   "cell_type": "code",
   "execution_count": 21,
   "metadata": {},
   "outputs": [
    {
     "data": {
      "text/plain": [
       "0.8435754189944135"
      ]
     },
     "execution_count": 21,
     "metadata": {},
     "output_type": "execute_result"
    }
   ],
   "source": [
    "final_lgbm = lgb.LGBMClassifier(num_leaves=best_params[1],\n",
    "                        learning_rate= 10 ** best_params[0],\n",
    "                        n_estimators=best_params[2],\n",
    "                        verbose=1)\n",
    "    \n",
    "final_lgbm.fit(X_train, Y_train)\n",
    "Y_pred = final_lgbm.predict(X_test)\n",
    "\n",
    "Y_pred[Y_pred > 0.5] = 1\n",
    "Y_pred[Y_pred <= 0.5] = 0\n",
    "\n",
    "accuracy_score(Y_pred,Y_test)"
   ]
  },
  {
   "cell_type": "code",
   "execution_count": 22,
   "metadata": {},
   "outputs": [
    {
     "name": "stdout",
     "output_type": "stream",
     "text": [
      "LightGBM Results\n",
      "[[105  12]\n",
      " [ 16  46]]\n",
      "\n",
      "\n",
      "Accuracy:              0.84\n",
      "Precision:              0.79\n",
      "Recall:                 0.74\n",
      "F1 Score:               0.7667\n"
     ]
    }
   ],
   "source": [
    "from sklearn import metrics\n",
    "from sklearn.metrics import confusion_matrix\n",
    "\n",
    "Y_true = Y_test\n",
    "conf = confusion_matrix(Y_true, Y_pred)\n",
    "tn, fp, fn, tp = conf.ravel()\n",
    "\n",
    "print(\"LightGBM Results\")\n",
    "\n",
    "print(conf)\n",
    "\n",
    "precision = (tp / (tp + fp))\n",
    "recall = (tp / (tp + fn))\n",
    "f1_score = 2*precision*recall/(precision + recall)\n",
    "\n",
    "print ('\\n')\n",
    "print (\"Accuracy:              %0.2f\" % accuracy_score(Y_pred,Y_true))\n",
    "print (\"Precision:              %0.2f\" % precision)\n",
    "print (\"Recall:                 %0.2f\"% recall)\n",
    "print (\"F1 Score:               %0.4f\"% f1_score)"
   ]
  },
  {
   "cell_type": "code",
   "execution_count": 23,
   "metadata": {},
   "outputs": [
    {
     "data": {
      "text/plain": [
       "[-2.1291404241284884, 36, 229]"
      ]
     },
     "execution_count": 23,
     "metadata": {},
     "output_type": "execute_result"
    }
   ],
   "source": [
    "best_params = r.x\n",
    "best_params"
   ]
  },
  {
   "cell_type": "markdown",
   "metadata": {},
   "source": [
    "## Submit To Kaggle For Real Test Data"
   ]
  },
  {
   "cell_type": "code",
   "execution_count": 24,
   "metadata": {},
   "outputs": [],
   "source": [
    "data_test = pd.read_csv(\"test.csv\")"
   ]
  },
  {
   "cell_type": "code",
   "execution_count": 25,
   "metadata": {},
   "outputs": [],
   "source": [
    "X_submit = data_test[['Pclass','Age', 'SibSp', 'Parch', 'Fare','Sex','Embarked']]\n"
   ]
  },
  {
   "cell_type": "code",
   "execution_count": 26,
   "metadata": {},
   "outputs": [
    {
     "name": "stderr",
     "output_type": "stream",
     "text": [
      "/Library/Frameworks/Python.framework/Versions/3.6/lib/python3.6/site-packages/ipykernel_launcher.py:1: SettingWithCopyWarning: \n",
      "A value is trying to be set on a copy of a slice from a DataFrame.\n",
      "Try using .loc[row_indexer,col_indexer] = value instead\n",
      "\n",
      "See the caveats in the documentation: http://pandas.pydata.org/pandas-docs/stable/indexing.html#indexing-view-versus-copy\n",
      "  \"\"\"Entry point for launching an IPython kernel.\n",
      "/Library/Frameworks/Python.framework/Versions/3.6/lib/python3.6/site-packages/ipykernel_launcher.py:2: SettingWithCopyWarning: \n",
      "A value is trying to be set on a copy of a slice from a DataFrame.\n",
      "Try using .loc[row_indexer,col_indexer] = value instead\n",
      "\n",
      "See the caveats in the documentation: http://pandas.pydata.org/pandas-docs/stable/indexing.html#indexing-view-versus-copy\n",
      "  \n"
     ]
    }
   ],
   "source": [
    "X_submit[\"Sex\"] = X_submit[\"Sex\"].astype('category');\n",
    "X_submit[\"Embarked\"] = X_submit[\"Embarked\"].astype('category');"
   ]
  },
  {
   "cell_type": "code",
   "execution_count": 27,
   "metadata": {},
   "outputs": [
    {
     "name": "stdout",
     "output_type": "stream",
     "text": [
      "Checking Feature Positins In Training vs Test data\n",
      "Index(['Pclass', 'Age', 'SibSp', 'Parch', 'Fare', 'Sex', 'Embarked'], dtype='object')\n",
      "Index(['Pclass', 'Age', 'SibSp', 'Parch', 'Fare', 'Sex', 'Embarked'], dtype='object')\n",
      "False\n"
     ]
    },
    {
     "data": {
      "text/plain": [
       "(418, 11)"
      ]
     },
     "execution_count": 27,
     "metadata": {},
     "output_type": "execute_result"
    }
   ],
   "source": [
    "print(\"Checking Feature Positins In Training vs Test data\")\n",
    "print(X_train.columns)\n",
    "print(X_submit.columns)\n",
    "print(False in (X_train.columns == X_submit.columns))\n",
    "data_test.shape"
   ]
  },
  {
   "cell_type": "code",
   "execution_count": 28,
   "metadata": {
    "scrolled": true
   },
   "outputs": [],
   "source": [
    "Y_lgbm_submit = final_lgbm.predict(X_submit)\n",
    "Y_lgbm_submit[Y_lgbm_submit > 0.5] = 1\n",
    "Y_lgbm_submit[Y_lgbm_submit <= 0.5] = 0"
   ]
  },
  {
   "cell_type": "code",
   "execution_count": 29,
   "metadata": {},
   "outputs": [],
   "source": [
    "lgbm_submit = pd.DataFrame(list(zip(data_test['PassengerId'],Y_lgbm_submit)),columns=['PassengerId','Survived'])"
   ]
  },
  {
   "cell_type": "code",
   "execution_count": 30,
   "metadata": {},
   "outputs": [],
   "source": [
    "lgbm_submit.to_csv(\"lgbm_submit.csv\",index=False)"
   ]
  },
  {
   "cell_type": "markdown",
   "metadata": {},
   "source": [
    "# FINAL RESULT"
   ]
  },
  {
   "cell_type": "markdown",
   "metadata": {},
   "source": [
    "## LightGBM w AutoTuning"
   ]
  },
  {
   "cell_type": "markdown",
   "metadata": {},
   "source": [
    "![lr](lgbm_titanic_6123.png)"
   ]
  },
  {
   "cell_type": "markdown",
   "metadata": {},
   "source": [
    "# Thank You!"
   ]
  },
  {
   "cell_type": "code",
   "execution_count": null,
   "metadata": {},
   "outputs": [],
   "source": []
  }
 ],
 "metadata": {
  "kernelspec": {
   "display_name": "Python 3",
   "language": "python",
   "name": "python3"
  },
  "language_info": {
   "codemirror_mode": {
    "name": "ipython",
    "version": 3
   },
   "file_extension": ".py",
   "mimetype": "text/x-python",
   "name": "python",
   "nbconvert_exporter": "python",
   "pygments_lexer": "ipython3",
   "version": "3.6.5"
  }
 },
 "nbformat": 4,
 "nbformat_minor": 2
}
