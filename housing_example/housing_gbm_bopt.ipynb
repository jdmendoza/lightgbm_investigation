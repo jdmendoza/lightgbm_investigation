{
 "cells": [
  {
   "cell_type": "markdown",
   "metadata": {},
   "source": [
    "# Testing LightGBM Using Titanic Dataset\n",
    "Dataset: https://www.kaggle.com/c/titanic\n",
    "Add feature explantations"
   ]
  },
  {
   "cell_type": "code",
   "execution_count": 2,
   "metadata": {},
   "outputs": [],
   "source": [
    "import numpy as np\n",
    "import pandas as pd\n",
    "import matplotlib.pyplot as plt\n",
    "\n",
    "from sklearn.model_selection import train_test_split, cross_val_score\n",
    "from sklearn.metrics import accuracy_score\n",
    "from sklearn import metrics\n",
    "from sklearn.metrics import confusion_matrix"
   ]
  },
  {
   "cell_type": "code",
   "execution_count": 23,
   "metadata": {},
   "outputs": [],
   "source": [
    "data = pd.read_csv(\"train.csv\")"
   ]
  },
  {
   "cell_type": "code",
   "execution_count": 24,
   "metadata": {},
   "outputs": [],
   "source": [
    "drop_features = ['MSSubClass', 'MSZoning', 'Street', 'Alley', 'LotShape', 'LandContour',\n",
    "                 'Utilities', 'LotConfig', 'LandSlope', 'Neighborhood', 'Condition1', \n",
    "                 'Condition2', 'RoofMatl', 'Exterior1st', 'Exterior2nd', 'MasVnrType', \n",
    "                 'ExterQual', 'ExterCond', 'Foundation', 'BsmtQual', 'BsmtCond', 'BsmtExposure', \n",
    "                 'BsmtFinType1', 'BsmtFinSF1', 'BsmtFinType2', 'BsmtFinSF2', 'BsmtUnfSF',\n",
    "                 'Heating', 'HeatingQC', 'CentralAir', 'Electrical', 'LowQualFinSF', 'BsmtFullBath',\n",
    "                 'BsmtHalfBath', 'FullBath', 'HalfBath', 'KitchenQual', 'Functional', 'Fireplaces', \n",
    "                 'FireplaceQu', 'GarageType', 'GarageFinish', 'GarageCond', 'PavedDrive', \n",
    "                 'EnclosedPorch', '3SsnPorch', 'ScreenPorch', 'PoolArea', 'PoolQC', 'Fence', \n",
    "                 'MiscFeature', 'MiscVal', 'MoSold']"
   ]
  },
  {
   "cell_type": "code",
   "execution_count": 25,
   "metadata": {},
   "outputs": [],
   "source": [
    "data.drop(data[drop_features], axis=1, inplace=True)\n"
   ]
  },
  {
   "cell_type": "code",
   "execution_count": 26,
   "metadata": {
    "scrolled": true
   },
   "outputs": [
    {
     "data": {
      "text/plain": [
       "Index(['Id', 'LotFrontage', 'LotArea', 'BldgType', 'HouseStyle', 'OverallQual',\n",
       "       'OverallCond', 'YearBuilt', 'YearRemodAdd', 'RoofStyle', 'MasVnrArea',\n",
       "       'TotalBsmtSF', '1stFlrSF', '2ndFlrSF', 'GrLivArea', 'BedroomAbvGr',\n",
       "       'KitchenAbvGr', 'TotRmsAbvGrd', 'GarageYrBlt', 'GarageCars',\n",
       "       'GarageArea', 'GarageQual', 'WoodDeckSF', 'OpenPorchSF', 'YrSold',\n",
       "       'SaleType', 'SaleCondition', 'SalePrice'],\n",
       "      dtype='object')"
      ]
     },
     "execution_count": 26,
     "metadata": {},
     "output_type": "execute_result"
    }
   ],
   "source": [
    "data.columns"
   ]
  },
  {
   "cell_type": "code",
   "execution_count": 27,
   "metadata": {},
   "outputs": [
    {
     "data": {
      "text/html": [
       "<div>\n",
       "<style scoped>\n",
       "    .dataframe tbody tr th:only-of-type {\n",
       "        vertical-align: middle;\n",
       "    }\n",
       "\n",
       "    .dataframe tbody tr th {\n",
       "        vertical-align: top;\n",
       "    }\n",
       "\n",
       "    .dataframe thead th {\n",
       "        text-align: right;\n",
       "    }\n",
       "</style>\n",
       "<table border=\"1\" class=\"dataframe\">\n",
       "  <thead>\n",
       "    <tr style=\"text-align: right;\">\n",
       "      <th></th>\n",
       "      <th>Id</th>\n",
       "      <th>LotFrontage</th>\n",
       "      <th>LotArea</th>\n",
       "      <th>BldgType</th>\n",
       "      <th>HouseStyle</th>\n",
       "      <th>OverallQual</th>\n",
       "      <th>OverallCond</th>\n",
       "      <th>YearBuilt</th>\n",
       "      <th>YearRemodAdd</th>\n",
       "      <th>RoofStyle</th>\n",
       "      <th>...</th>\n",
       "      <th>GarageYrBlt</th>\n",
       "      <th>GarageCars</th>\n",
       "      <th>GarageArea</th>\n",
       "      <th>GarageQual</th>\n",
       "      <th>WoodDeckSF</th>\n",
       "      <th>OpenPorchSF</th>\n",
       "      <th>YrSold</th>\n",
       "      <th>SaleType</th>\n",
       "      <th>SaleCondition</th>\n",
       "      <th>SalePrice</th>\n",
       "    </tr>\n",
       "  </thead>\n",
       "  <tbody>\n",
       "    <tr>\n",
       "      <th>0</th>\n",
       "      <td>1</td>\n",
       "      <td>65.0</td>\n",
       "      <td>8450</td>\n",
       "      <td>1Fam</td>\n",
       "      <td>2Story</td>\n",
       "      <td>7</td>\n",
       "      <td>5</td>\n",
       "      <td>2003</td>\n",
       "      <td>2003</td>\n",
       "      <td>Gable</td>\n",
       "      <td>...</td>\n",
       "      <td>2003.0</td>\n",
       "      <td>2</td>\n",
       "      <td>548</td>\n",
       "      <td>TA</td>\n",
       "      <td>0</td>\n",
       "      <td>61</td>\n",
       "      <td>2008</td>\n",
       "      <td>WD</td>\n",
       "      <td>Normal</td>\n",
       "      <td>208500</td>\n",
       "    </tr>\n",
       "    <tr>\n",
       "      <th>1</th>\n",
       "      <td>2</td>\n",
       "      <td>80.0</td>\n",
       "      <td>9600</td>\n",
       "      <td>1Fam</td>\n",
       "      <td>1Story</td>\n",
       "      <td>6</td>\n",
       "      <td>8</td>\n",
       "      <td>1976</td>\n",
       "      <td>1976</td>\n",
       "      <td>Gable</td>\n",
       "      <td>...</td>\n",
       "      <td>1976.0</td>\n",
       "      <td>2</td>\n",
       "      <td>460</td>\n",
       "      <td>TA</td>\n",
       "      <td>298</td>\n",
       "      <td>0</td>\n",
       "      <td>2007</td>\n",
       "      <td>WD</td>\n",
       "      <td>Normal</td>\n",
       "      <td>181500</td>\n",
       "    </tr>\n",
       "    <tr>\n",
       "      <th>2</th>\n",
       "      <td>3</td>\n",
       "      <td>68.0</td>\n",
       "      <td>11250</td>\n",
       "      <td>1Fam</td>\n",
       "      <td>2Story</td>\n",
       "      <td>7</td>\n",
       "      <td>5</td>\n",
       "      <td>2001</td>\n",
       "      <td>2002</td>\n",
       "      <td>Gable</td>\n",
       "      <td>...</td>\n",
       "      <td>2001.0</td>\n",
       "      <td>2</td>\n",
       "      <td>608</td>\n",
       "      <td>TA</td>\n",
       "      <td>0</td>\n",
       "      <td>42</td>\n",
       "      <td>2008</td>\n",
       "      <td>WD</td>\n",
       "      <td>Normal</td>\n",
       "      <td>223500</td>\n",
       "    </tr>\n",
       "    <tr>\n",
       "      <th>3</th>\n",
       "      <td>4</td>\n",
       "      <td>60.0</td>\n",
       "      <td>9550</td>\n",
       "      <td>1Fam</td>\n",
       "      <td>2Story</td>\n",
       "      <td>7</td>\n",
       "      <td>5</td>\n",
       "      <td>1915</td>\n",
       "      <td>1970</td>\n",
       "      <td>Gable</td>\n",
       "      <td>...</td>\n",
       "      <td>1998.0</td>\n",
       "      <td>3</td>\n",
       "      <td>642</td>\n",
       "      <td>TA</td>\n",
       "      <td>0</td>\n",
       "      <td>35</td>\n",
       "      <td>2006</td>\n",
       "      <td>WD</td>\n",
       "      <td>Abnorml</td>\n",
       "      <td>140000</td>\n",
       "    </tr>\n",
       "    <tr>\n",
       "      <th>4</th>\n",
       "      <td>5</td>\n",
       "      <td>84.0</td>\n",
       "      <td>14260</td>\n",
       "      <td>1Fam</td>\n",
       "      <td>2Story</td>\n",
       "      <td>8</td>\n",
       "      <td>5</td>\n",
       "      <td>2000</td>\n",
       "      <td>2000</td>\n",
       "      <td>Gable</td>\n",
       "      <td>...</td>\n",
       "      <td>2000.0</td>\n",
       "      <td>3</td>\n",
       "      <td>836</td>\n",
       "      <td>TA</td>\n",
       "      <td>192</td>\n",
       "      <td>84</td>\n",
       "      <td>2008</td>\n",
       "      <td>WD</td>\n",
       "      <td>Normal</td>\n",
       "      <td>250000</td>\n",
       "    </tr>\n",
       "    <tr>\n",
       "      <th>5</th>\n",
       "      <td>6</td>\n",
       "      <td>85.0</td>\n",
       "      <td>14115</td>\n",
       "      <td>1Fam</td>\n",
       "      <td>1.5Fin</td>\n",
       "      <td>5</td>\n",
       "      <td>5</td>\n",
       "      <td>1993</td>\n",
       "      <td>1995</td>\n",
       "      <td>Gable</td>\n",
       "      <td>...</td>\n",
       "      <td>1993.0</td>\n",
       "      <td>2</td>\n",
       "      <td>480</td>\n",
       "      <td>TA</td>\n",
       "      <td>40</td>\n",
       "      <td>30</td>\n",
       "      <td>2009</td>\n",
       "      <td>WD</td>\n",
       "      <td>Normal</td>\n",
       "      <td>143000</td>\n",
       "    </tr>\n",
       "    <tr>\n",
       "      <th>6</th>\n",
       "      <td>7</td>\n",
       "      <td>75.0</td>\n",
       "      <td>10084</td>\n",
       "      <td>1Fam</td>\n",
       "      <td>1Story</td>\n",
       "      <td>8</td>\n",
       "      <td>5</td>\n",
       "      <td>2004</td>\n",
       "      <td>2005</td>\n",
       "      <td>Gable</td>\n",
       "      <td>...</td>\n",
       "      <td>2004.0</td>\n",
       "      <td>2</td>\n",
       "      <td>636</td>\n",
       "      <td>TA</td>\n",
       "      <td>255</td>\n",
       "      <td>57</td>\n",
       "      <td>2007</td>\n",
       "      <td>WD</td>\n",
       "      <td>Normal</td>\n",
       "      <td>307000</td>\n",
       "    </tr>\n",
       "    <tr>\n",
       "      <th>7</th>\n",
       "      <td>8</td>\n",
       "      <td>NaN</td>\n",
       "      <td>10382</td>\n",
       "      <td>1Fam</td>\n",
       "      <td>2Story</td>\n",
       "      <td>7</td>\n",
       "      <td>6</td>\n",
       "      <td>1973</td>\n",
       "      <td>1973</td>\n",
       "      <td>Gable</td>\n",
       "      <td>...</td>\n",
       "      <td>1973.0</td>\n",
       "      <td>2</td>\n",
       "      <td>484</td>\n",
       "      <td>TA</td>\n",
       "      <td>235</td>\n",
       "      <td>204</td>\n",
       "      <td>2009</td>\n",
       "      <td>WD</td>\n",
       "      <td>Normal</td>\n",
       "      <td>200000</td>\n",
       "    </tr>\n",
       "    <tr>\n",
       "      <th>8</th>\n",
       "      <td>9</td>\n",
       "      <td>51.0</td>\n",
       "      <td>6120</td>\n",
       "      <td>1Fam</td>\n",
       "      <td>1.5Fin</td>\n",
       "      <td>7</td>\n",
       "      <td>5</td>\n",
       "      <td>1931</td>\n",
       "      <td>1950</td>\n",
       "      <td>Gable</td>\n",
       "      <td>...</td>\n",
       "      <td>1931.0</td>\n",
       "      <td>2</td>\n",
       "      <td>468</td>\n",
       "      <td>Fa</td>\n",
       "      <td>90</td>\n",
       "      <td>0</td>\n",
       "      <td>2008</td>\n",
       "      <td>WD</td>\n",
       "      <td>Abnorml</td>\n",
       "      <td>129900</td>\n",
       "    </tr>\n",
       "    <tr>\n",
       "      <th>9</th>\n",
       "      <td>10</td>\n",
       "      <td>50.0</td>\n",
       "      <td>7420</td>\n",
       "      <td>2fmCon</td>\n",
       "      <td>1.5Unf</td>\n",
       "      <td>5</td>\n",
       "      <td>6</td>\n",
       "      <td>1939</td>\n",
       "      <td>1950</td>\n",
       "      <td>Gable</td>\n",
       "      <td>...</td>\n",
       "      <td>1939.0</td>\n",
       "      <td>1</td>\n",
       "      <td>205</td>\n",
       "      <td>Gd</td>\n",
       "      <td>0</td>\n",
       "      <td>4</td>\n",
       "      <td>2008</td>\n",
       "      <td>WD</td>\n",
       "      <td>Normal</td>\n",
       "      <td>118000</td>\n",
       "    </tr>\n",
       "  </tbody>\n",
       "</table>\n",
       "<p>10 rows × 28 columns</p>\n",
       "</div>"
      ],
      "text/plain": [
       "   Id  LotFrontage  LotArea BldgType HouseStyle  OverallQual  OverallCond  \\\n",
       "0   1         65.0     8450     1Fam     2Story            7            5   \n",
       "1   2         80.0     9600     1Fam     1Story            6            8   \n",
       "2   3         68.0    11250     1Fam     2Story            7            5   \n",
       "3   4         60.0     9550     1Fam     2Story            7            5   \n",
       "4   5         84.0    14260     1Fam     2Story            8            5   \n",
       "5   6         85.0    14115     1Fam     1.5Fin            5            5   \n",
       "6   7         75.0    10084     1Fam     1Story            8            5   \n",
       "7   8          NaN    10382     1Fam     2Story            7            6   \n",
       "8   9         51.0     6120     1Fam     1.5Fin            7            5   \n",
       "9  10         50.0     7420   2fmCon     1.5Unf            5            6   \n",
       "\n",
       "   YearBuilt  YearRemodAdd RoofStyle    ...      GarageYrBlt  GarageCars  \\\n",
       "0       2003          2003     Gable    ...           2003.0           2   \n",
       "1       1976          1976     Gable    ...           1976.0           2   \n",
       "2       2001          2002     Gable    ...           2001.0           2   \n",
       "3       1915          1970     Gable    ...           1998.0           3   \n",
       "4       2000          2000     Gable    ...           2000.0           3   \n",
       "5       1993          1995     Gable    ...           1993.0           2   \n",
       "6       2004          2005     Gable    ...           2004.0           2   \n",
       "7       1973          1973     Gable    ...           1973.0           2   \n",
       "8       1931          1950     Gable    ...           1931.0           2   \n",
       "9       1939          1950     Gable    ...           1939.0           1   \n",
       "\n",
       "   GarageArea  GarageQual  WoodDeckSF  OpenPorchSF  YrSold  SaleType  \\\n",
       "0         548          TA           0           61    2008        WD   \n",
       "1         460          TA         298            0    2007        WD   \n",
       "2         608          TA           0           42    2008        WD   \n",
       "3         642          TA           0           35    2006        WD   \n",
       "4         836          TA         192           84    2008        WD   \n",
       "5         480          TA          40           30    2009        WD   \n",
       "6         636          TA         255           57    2007        WD   \n",
       "7         484          TA         235          204    2009        WD   \n",
       "8         468          Fa          90            0    2008        WD   \n",
       "9         205          Gd           0            4    2008        WD   \n",
       "\n",
       "   SaleCondition  SalePrice  \n",
       "0         Normal     208500  \n",
       "1         Normal     181500  \n",
       "2         Normal     223500  \n",
       "3        Abnorml     140000  \n",
       "4         Normal     250000  \n",
       "5         Normal     143000  \n",
       "6         Normal     307000  \n",
       "7         Normal     200000  \n",
       "8        Abnorml     129900  \n",
       "9         Normal     118000  \n",
       "\n",
       "[10 rows x 28 columns]"
      ]
     },
     "execution_count": 27,
     "metadata": {},
     "output_type": "execute_result"
    }
   ],
   "source": [
    "data.head(10)"
   ]
  },
  {
   "cell_type": "code",
   "execution_count": 65,
   "metadata": {},
   "outputs": [
    {
     "data": {
      "text/plain": [
       "Id                  int64\n",
       "LotFrontage       float64\n",
       "LotArea             int64\n",
       "BldgType         category\n",
       "HouseStyle       category\n",
       "OverallQual         int64\n",
       "OverallCond         int64\n",
       "YearBuilt           int64\n",
       "YearRemodAdd        int64\n",
       "RoofStyle        category\n",
       "MasVnrArea        float64\n",
       "TotalBsmtSF         int64\n",
       "1stFlrSF            int64\n",
       "2ndFlrSF            int64\n",
       "GrLivArea           int64\n",
       "BedroomAbvGr        int64\n",
       "KitchenAbvGr        int64\n",
       "TotRmsAbvGrd        int64\n",
       "GarageYrBlt       float64\n",
       "GarageCars          int64\n",
       "GarageArea          int64\n",
       "GarageQual       category\n",
       "WoodDeckSF          int64\n",
       "OpenPorchSF         int64\n",
       "YrSold              int64\n",
       "SaleType         category\n",
       "SaleCondition    category\n",
       "dtype: object"
      ]
     },
     "execution_count": 65,
     "metadata": {},
     "output_type": "execute_result"
    }
   ],
   "source": [
    "data.dtypes"
   ]
  },
  {
   "cell_type": "markdown",
   "metadata": {},
   "source": [
    "## Creating Training Dataset - All numerical + Dummifying Categorical"
   ]
  },
  {
   "cell_type": "markdown",
   "metadata": {},
   "source": [
    "Categorical Columns Need to be defined as categorical"
   ]
  },
  {
   "cell_type": "code",
   "execution_count": 29,
   "metadata": {},
   "outputs": [],
   "source": [
    "data[\"BldgType\"] = data[\"BldgType\"].astype('category');\n",
    "data[\"HouseStyle\"] = data[\"HouseStyle\"].astype('category');\n",
    "data[\"RoofStyle\"] = data[\"RoofStyle\"].astype('category');\n",
    "data[\"GarageQual\"] = data[\"GarageQual\"].astype('category');\n",
    "data[\"SaleCondition\"] = data[\"SaleCondition\"].astype('category');\n",
    "data[\"SaleType\"] = data[\"SaleType\"].astype('category');"
   ]
  },
  {
   "cell_type": "code",
   "execution_count": 30,
   "metadata": {},
   "outputs": [],
   "source": [
    "yvalues = data.pop('SalePrice')"
   ]
  },
  {
   "cell_type": "markdown",
   "metadata": {},
   "source": [
    "There is a class imbalance"
   ]
  },
  {
   "cell_type": "code",
   "execution_count": 31,
   "metadata": {
    "scrolled": true
   },
   "outputs": [],
   "source": [
    "X_train, X_test, Y_train, Y_test = train_test_split(data, yvalues, test_size = 0.2, random_state = 10)"
   ]
  },
  {
   "cell_type": "code",
   "execution_count": 32,
   "metadata": {},
   "outputs": [
    {
     "data": {
      "text/plain": [
       "Index(['Id', 'LotFrontage', 'LotArea', 'BldgType', 'HouseStyle', 'OverallQual',\n",
       "       'OverallCond', 'YearBuilt', 'YearRemodAdd', 'RoofStyle', 'MasVnrArea',\n",
       "       'TotalBsmtSF', '1stFlrSF', '2ndFlrSF', 'GrLivArea', 'BedroomAbvGr',\n",
       "       'KitchenAbvGr', 'TotRmsAbvGrd', 'GarageYrBlt', 'GarageCars',\n",
       "       'GarageArea', 'GarageQual', 'WoodDeckSF', 'OpenPorchSF', 'YrSold',\n",
       "       'SaleType', 'SaleCondition'],\n",
       "      dtype='object')"
      ]
     },
     "execution_count": 32,
     "metadata": {},
     "output_type": "execute_result"
    }
   ],
   "source": [
    "X_train.columns"
   ]
  },
  {
   "cell_type": "markdown",
   "metadata": {},
   "source": [
    "## Using LightGBM For Classification"
   ]
  },
  {
   "cell_type": "code",
   "execution_count": 33,
   "metadata": {},
   "outputs": [],
   "source": [
    "import lightgbm as lgb;"
   ]
  },
  {
   "cell_type": "code",
   "execution_count": 34,
   "metadata": {},
   "outputs": [
    {
     "data": {
      "text/plain": [
       "dict_keys(['explained_variance', 'r2', 'neg_median_absolute_error', 'neg_mean_absolute_error', 'neg_mean_squared_error', 'neg_mean_squared_log_error', 'accuracy', 'roc_auc', 'balanced_accuracy', 'average_precision', 'neg_log_loss', 'brier_score_loss', 'adjusted_rand_score', 'homogeneity_score', 'completeness_score', 'v_measure_score', 'mutual_info_score', 'adjusted_mutual_info_score', 'normalized_mutual_info_score', 'fowlkes_mallows_score', 'precision', 'precision_macro', 'precision_micro', 'precision_samples', 'precision_weighted', 'recall', 'recall_macro', 'recall_micro', 'recall_samples', 'recall_weighted', 'f1', 'f1_macro', 'f1_micro', 'f1_samples', 'f1_weighted'])"
      ]
     },
     "execution_count": 34,
     "metadata": {},
     "output_type": "execute_result"
    }
   ],
   "source": [
    "import sklearn\n",
    "sklearn.metrics.SCORERS.keys()"
   ]
  },
  {
   "cell_type": "code",
   "execution_count": 35,
   "metadata": {},
   "outputs": [
    {
     "data": {
      "text/plain": [
       "Index(['Id', 'LotFrontage', 'LotArea', 'BldgType', 'HouseStyle', 'OverallQual',\n",
       "       'OverallCond', 'YearBuilt', 'YearRemodAdd', 'RoofStyle', 'MasVnrArea',\n",
       "       'TotalBsmtSF', '1stFlrSF', '2ndFlrSF', 'GrLivArea', 'BedroomAbvGr',\n",
       "       'KitchenAbvGr', 'TotRmsAbvGrd', 'GarageYrBlt', 'GarageCars',\n",
       "       'GarageArea', 'GarageQual', 'WoodDeckSF', 'OpenPorchSF', 'YrSold',\n",
       "       'SaleType', 'SaleCondition'],\n",
       "      dtype='object')"
      ]
     },
     "execution_count": 35,
     "metadata": {},
     "output_type": "execute_result"
    }
   ],
   "source": [
    "X_train.columns"
   ]
  },
  {
   "cell_type": "code",
   "execution_count": 40,
   "metadata": {},
   "outputs": [],
   "source": [
    "import math\n",
    "def objective(params):\n",
    "    learning_rate = 10. ** params[0]\n",
    "    num_leaves = params[1]\n",
    "    n_estimators = params[2]\n",
    "    \n",
    "    lgbm = lgb.LGBMRegressor(\n",
    "                        learning_rate=learning_rate,\n",
    "                        num_leaves=num_leaves,\n",
    "                        max_depth=8,\n",
    "                        n_estimators=n_estimators,\n",
    "                        verbose=1,\n",
    "                        )\n",
    "    \n",
    "    return math.sqrt(-np.mean(cross_val_score(lgbm, X_train, Y_train, cv=10, scoring='neg_mean_squared_error')))"
   ]
  },
  {
   "cell_type": "markdown",
   "metadata": {},
   "source": [
    "Testing the function with arbitrary parameters"
   ]
  },
  {
   "cell_type": "code",
   "execution_count": 41,
   "metadata": {},
   "outputs": [
    {
     "data": {
      "text/plain": [
       "41001.370357575746"
      ]
     },
     "execution_count": 41,
     "metadata": {},
     "output_type": "execute_result"
    }
   ],
   "source": [
    "objective([-2.2380598356874204, 25, 207])"
   ]
  },
  {
   "cell_type": "markdown",
   "metadata": {},
   "source": [
    "## Using Bayesian Optimization For Hyperparameter Tuning"
   ]
  },
  {
   "cell_type": "code",
   "execution_count": 42,
   "metadata": {},
   "outputs": [],
   "source": [
    "from skopt import gp_minimize"
   ]
  },
  {
   "cell_type": "code",
   "execution_count": 43,
   "metadata": {},
   "outputs": [
    {
     "name": "stdout",
     "output_type": "stream",
     "text": [
      "Iteration No: 1 started. Evaluating function at random point.\n",
      "Iteration No: 1 ended. Evaluation done at random point.\n",
      "Time taken: 5.3890\n",
      "Function value obtained: 33051.2964\n",
      "Current minimum: 33051.2964\n",
      "Iteration No: 2 started. Evaluating function at random point.\n",
      "Iteration No: 2 ended. Evaluation done at random point.\n",
      "Time taken: 1.9876\n",
      "Function value obtained: 33888.0479\n",
      "Current minimum: 33051.2964\n",
      "Iteration No: 3 started. Evaluating function at random point.\n",
      "Iteration No: 3 ended. Evaluation done at random point.\n",
      "Time taken: 0.7393\n",
      "Function value obtained: 77913.3615\n",
      "Current minimum: 33051.2964\n",
      "Iteration No: 4 started. Evaluating function at random point.\n",
      "Iteration No: 4 ended. Evaluation done at random point.\n",
      "Time taken: 3.1726\n",
      "Function value obtained: 61505.3555\n",
      "Current minimum: 33051.2964\n",
      "Iteration No: 5 started. Evaluating function at random point.\n",
      "Iteration No: 5 ended. Evaluation done at random point.\n",
      "Time taken: 2.3371\n",
      "Function value obtained: 73795.3190\n",
      "Current minimum: 33051.2964\n",
      "Iteration No: 6 started. Evaluating function at random point.\n",
      "Iteration No: 6 ended. Evaluation done at random point.\n",
      "Time taken: 6.0273\n",
      "Function value obtained: 31829.6433\n",
      "Current minimum: 31829.6433\n",
      "Iteration No: 7 started. Evaluating function at random point.\n",
      "Iteration No: 7 ended. Evaluation done at random point.\n",
      "Time taken: 3.9529\n",
      "Function value obtained: 78842.3071\n",
      "Current minimum: 31829.6433\n",
      "Iteration No: 8 started. Evaluating function at random point.\n",
      "Iteration No: 8 ended. Evaluation done at random point.\n",
      "Time taken: 4.9941\n",
      "Function value obtained: 34176.1731\n",
      "Current minimum: 31829.6433\n",
      "Iteration No: 9 started. Evaluating function at random point.\n",
      "Iteration No: 9 ended. Evaluation done at random point.\n",
      "Time taken: 3.5446\n",
      "Function value obtained: 32122.2593\n",
      "Current minimum: 31829.6433\n",
      "Iteration No: 10 started. Evaluating function at random point.\n",
      "Iteration No: 10 ended. Evaluation done at random point.\n",
      "Time taken: 5.0775\n",
      "Function value obtained: 31749.4790\n",
      "Current minimum: 31749.4790\n",
      "Iteration No: 11 started. Searching for the next optimal point.\n",
      "Iteration No: 11 ended. Search finished for the next optimal point.\n",
      "Time taken: 4.5284\n",
      "Function value obtained: 33048.3714\n",
      "Current minimum: 31749.4790\n",
      "Iteration No: 12 started. Searching for the next optimal point.\n",
      "Iteration No: 12 ended. Search finished for the next optimal point.\n",
      "Time taken: 4.7087\n",
      "Function value obtained: 33273.1867\n",
      "Current minimum: 31749.4790\n",
      "Iteration No: 13 started. Searching for the next optimal point.\n",
      "Iteration No: 13 ended. Search finished for the next optimal point.\n",
      "Time taken: 3.3936\n",
      "Function value obtained: 32803.0108\n",
      "Current minimum: 31749.4790\n",
      "Iteration No: 14 started. Searching for the next optimal point.\n",
      "Iteration No: 14 ended. Search finished for the next optimal point.\n",
      "Time taken: 3.8591\n",
      "Function value obtained: 33351.3177\n",
      "Current minimum: 31749.4790\n",
      "Iteration No: 15 started. Searching for the next optimal point.\n",
      "Iteration No: 15 ended. Search finished for the next optimal point.\n",
      "Time taken: 5.9515\n",
      "Function value obtained: 33606.6147\n",
      "Current minimum: 31749.4790\n",
      "Iteration No: 16 started. Searching for the next optimal point.\n",
      "Iteration No: 16 ended. Search finished for the next optimal point.\n",
      "Time taken: 4.3687\n",
      "Function value obtained: 33291.9266\n",
      "Current minimum: 31749.4790\n",
      "Iteration No: 17 started. Searching for the next optimal point.\n",
      "Iteration No: 17 ended. Search finished for the next optimal point.\n",
      "Time taken: 7.1098\n",
      "Function value obtained: 33051.2096\n",
      "Current minimum: 31749.4790\n",
      "Iteration No: 18 started. Searching for the next optimal point.\n",
      "Iteration No: 18 ended. Search finished for the next optimal point.\n",
      "Time taken: 13.2882\n",
      "Function value obtained: 33569.8111\n",
      "Current minimum: 31749.4790\n",
      "Iteration No: 19 started. Searching for the next optimal point.\n",
      "Iteration No: 19 ended. Search finished for the next optimal point.\n",
      "Time taken: 7.6793\n",
      "Function value obtained: 33288.3291\n",
      "Current minimum: 31749.4790\n",
      "Iteration No: 20 started. Searching for the next optimal point.\n",
      "Iteration No: 20 ended. Search finished for the next optimal point.\n",
      "Time taken: 5.9476\n",
      "Function value obtained: 32896.5153\n",
      "Current minimum: 31749.4790\n",
      "Iteration No: 21 started. Searching for the next optimal point.\n",
      "Iteration No: 21 ended. Search finished for the next optimal point.\n",
      "Time taken: 4.5069\n",
      "Function value obtained: 32851.3567\n",
      "Current minimum: 31749.4790\n",
      "Iteration No: 22 started. Searching for the next optimal point.\n",
      "Iteration No: 22 ended. Search finished for the next optimal point.\n",
      "Time taken: 6.8120\n",
      "Function value obtained: 32587.2745\n",
      "Current minimum: 31749.4790\n",
      "Iteration No: 23 started. Searching for the next optimal point.\n",
      "Iteration No: 23 ended. Search finished for the next optimal point.\n",
      "Time taken: 7.0860\n",
      "Function value obtained: 33385.2244\n",
      "Current minimum: 31749.4790\n",
      "Iteration No: 24 started. Searching for the next optimal point.\n",
      "Iteration No: 24 ended. Search finished for the next optimal point.\n",
      "Time taken: 4.1114\n",
      "Function value obtained: 32748.3058\n",
      "Current minimum: 31749.4790\n",
      "Iteration No: 25 started. Searching for the next optimal point.\n",
      "Iteration No: 25 ended. Search finished for the next optimal point.\n",
      "Time taken: 3.6946\n",
      "Function value obtained: 32858.7825\n",
      "Current minimum: 31749.4790\n",
      "Iteration No: 26 started. Searching for the next optimal point.\n",
      "Iteration No: 26 ended. Search finished for the next optimal point.\n",
      "Time taken: 5.7003\n",
      "Function value obtained: 33503.3689\n",
      "Current minimum: 31749.4790\n",
      "Iteration No: 27 started. Searching for the next optimal point.\n",
      "Iteration No: 27 ended. Search finished for the next optimal point.\n",
      "Time taken: 8.6468\n",
      "Function value obtained: 33807.6530\n",
      "Current minimum: 31749.4790\n",
      "Iteration No: 28 started. Searching for the next optimal point.\n",
      "Iteration No: 28 ended. Search finished for the next optimal point.\n",
      "Time taken: 4.7080\n",
      "Function value obtained: 33087.1429\n",
      "Current minimum: 31749.4790\n",
      "Iteration No: 29 started. Searching for the next optimal point.\n",
      "Iteration No: 29 ended. Search finished for the next optimal point.\n",
      "Time taken: 6.6409\n",
      "Function value obtained: 33072.7072\n",
      "Current minimum: 31749.4790\n",
      "Iteration No: 30 started. Searching for the next optimal point.\n",
      "Iteration No: 30 ended. Search finished for the next optimal point.\n",
      "Time taken: 7.9078\n",
      "Function value obtained: 33254.5113\n",
      "Current minimum: 31749.4790\n",
      "Iteration No: 31 started. Searching for the next optimal point.\n",
      "Iteration No: 31 ended. Search finished for the next optimal point.\n",
      "Time taken: 6.9753\n",
      "Function value obtained: 33303.1653\n",
      "Current minimum: 31749.4790\n",
      "Iteration No: 32 started. Searching for the next optimal point.\n",
      "Iteration No: 32 ended. Search finished for the next optimal point.\n",
      "Time taken: 6.2559\n",
      "Function value obtained: 32802.3319\n",
      "Current minimum: 31749.4790\n",
      "Iteration No: 33 started. Searching for the next optimal point.\n",
      "Iteration No: 33 ended. Search finished for the next optimal point.\n",
      "Time taken: 7.0000\n",
      "Function value obtained: 33076.9271\n",
      "Current minimum: 31749.4790\n",
      "Iteration No: 34 started. Searching for the next optimal point.\n",
      "Iteration No: 34 ended. Search finished for the next optimal point.\n",
      "Time taken: 7.3972\n",
      "Function value obtained: 33061.3002\n",
      "Current minimum: 31749.4790\n",
      "Iteration No: 35 started. Searching for the next optimal point.\n",
      "Iteration No: 35 ended. Search finished for the next optimal point.\n",
      "Time taken: 4.8682\n",
      "Function value obtained: 33306.7005\n",
      "Current minimum: 31749.4790\n",
      "Iteration No: 36 started. Searching for the next optimal point.\n",
      "Iteration No: 36 ended. Search finished for the next optimal point.\n",
      "Time taken: 9.9648\n",
      "Function value obtained: 33946.5046\n",
      "Current minimum: 31749.4790\n",
      "Iteration No: 37 started. Searching for the next optimal point.\n",
      "Iteration No: 37 ended. Search finished for the next optimal point.\n",
      "Time taken: 7.4475\n",
      "Function value obtained: 33529.7232\n",
      "Current minimum: 31749.4790\n",
      "Iteration No: 38 started. Searching for the next optimal point.\n",
      "Iteration No: 38 ended. Search finished for the next optimal point.\n",
      "Time taken: 4.7139\n",
      "Function value obtained: 33125.0404\n",
      "Current minimum: 31749.4790\n",
      "Iteration No: 39 started. Searching for the next optimal point.\n",
      "Iteration No: 39 ended. Search finished for the next optimal point.\n",
      "Time taken: 7.4804\n",
      "Function value obtained: 33865.9537\n",
      "Current minimum: 31749.4790\n",
      "Iteration No: 40 started. Searching for the next optimal point.\n"
     ]
    },
    {
     "name": "stdout",
     "output_type": "stream",
     "text": [
      "Iteration No: 40 ended. Search finished for the next optimal point.\n",
      "Time taken: 5.8994\n",
      "Function value obtained: 33636.1001\n",
      "Current minimum: 31749.4790\n",
      "Iteration No: 41 started. Searching for the next optimal point.\n",
      "Iteration No: 41 ended. Search finished for the next optimal point.\n",
      "Time taken: 5.2789\n",
      "Function value obtained: 33332.8793\n",
      "Current minimum: 31749.4790\n",
      "Iteration No: 42 started. Searching for the next optimal point.\n",
      "Iteration No: 42 ended. Search finished for the next optimal point.\n",
      "Time taken: 6.0585\n",
      "Function value obtained: 33549.0273\n",
      "Current minimum: 31749.4790\n",
      "Iteration No: 43 started. Searching for the next optimal point.\n",
      "Iteration No: 43 ended. Search finished for the next optimal point.\n",
      "Time taken: 4.3405\n",
      "Function value obtained: 33130.1330\n",
      "Current minimum: 31749.4790\n",
      "Iteration No: 44 started. Searching for the next optimal point.\n",
      "Iteration No: 44 ended. Search finished for the next optimal point.\n",
      "Time taken: 4.0321\n",
      "Function value obtained: 33223.2049\n",
      "Current minimum: 31749.4790\n",
      "Iteration No: 45 started. Searching for the next optimal point.\n",
      "Iteration No: 45 ended. Search finished for the next optimal point.\n",
      "Time taken: 4.6055\n",
      "Function value obtained: 33737.8318\n",
      "Current minimum: 31749.4790\n",
      "Iteration No: 46 started. Searching for the next optimal point.\n",
      "Iteration No: 46 ended. Search finished for the next optimal point.\n",
      "Time taken: 6.7890\n",
      "Function value obtained: 33712.6761\n",
      "Current minimum: 31749.4790\n",
      "Iteration No: 47 started. Searching for the next optimal point.\n",
      "Iteration No: 47 ended. Search finished for the next optimal point.\n",
      "Time taken: 5.4470\n",
      "Function value obtained: 33503.1369\n",
      "Current minimum: 31749.4790\n",
      "Iteration No: 48 started. Searching for the next optimal point.\n",
      "Iteration No: 48 ended. Search finished for the next optimal point.\n",
      "Time taken: 6.2904\n",
      "Function value obtained: 33606.6046\n",
      "Current minimum: 31749.4790\n",
      "Iteration No: 49 started. Searching for the next optimal point.\n",
      "Iteration No: 49 ended. Search finished for the next optimal point.\n",
      "Time taken: 4.5544\n",
      "Function value obtained: 33043.7066\n",
      "Current minimum: 31749.4790\n",
      "Iteration No: 50 started. Searching for the next optimal point.\n",
      "Iteration No: 50 ended. Search finished for the next optimal point.\n",
      "Time taken: 6.2173\n",
      "Function value obtained: 33574.9435\n",
      "Current minimum: 31749.4790\n"
     ]
    }
   ],
   "source": [
    "space = [(-5.0,0.0),(2,100),(2,300)]\n",
    "\n",
    "r = gp_minimize(objective, space, n_calls=50, random_state=0,n_jobs=-1,verbose=True)"
   ]
  },
  {
   "cell_type": "code",
   "execution_count": 44,
   "metadata": {},
   "outputs": [
    {
     "data": {
      "text/plain": [
       "[-1.2069218783882132, 12, 143]"
      ]
     },
     "execution_count": 44,
     "metadata": {},
     "output_type": "execute_result"
    }
   ],
   "source": [
    "best_params = r.x\n",
    "best_params"
   ]
  },
  {
   "cell_type": "code",
   "execution_count": 45,
   "metadata": {},
   "outputs": [
    {
     "data": {
      "text/plain": [
       "31749.478957019597"
      ]
     },
     "execution_count": 45,
     "metadata": {},
     "output_type": "execute_result"
    }
   ],
   "source": [
    "r.fun"
   ]
  },
  {
   "cell_type": "code",
   "execution_count": 46,
   "metadata": {},
   "outputs": [
    {
     "data": {
      "image/png": "[encoded data removed]",
      "text/plain": [
       "<Figure size 432x288 with 1 Axes>"
      ]
     },
     "metadata": {
      "needs_background": "light"
     },
     "output_type": "display_data"
    }
   ],
   "source": [
    "from skopt.plots import plot_convergence\n",
    "\n",
    "plot_convergence(r);"
   ]
  },
  {
   "cell_type": "markdown",
   "metadata": {},
   "source": [
    "## Move Parameters to Final LightGBM Model  "
   ]
  },
  {
   "cell_type": "code",
   "execution_count": 56,
   "metadata": {},
   "outputs": [
    {
     "data": {
      "text/plain": [
       "27717.323118727858"
      ]
     },
     "execution_count": 56,
     "metadata": {},
     "output_type": "execute_result"
    }
   ],
   "source": [
    "from sklearn.metrics import mean_squared_error\n",
    "\n",
    "final_lgbm = lgb.LGBMRegressor(num_leaves=best_params[1],\n",
    "                        learning_rate= 10 ** best_params[0],\n",
    "                        n_estimators=best_params[2],\n",
    "                        verbose=1)\n",
    "    \n",
    "final_lgbm.fit(X_train, Y_train)\n",
    "Y_pred = final_lgbm.predict(X_test)\n",
    "\n",
    "math.sqrt(mean_squared_error(Y_pred,Y_test))"
   ]
  },
  {
   "cell_type": "code",
   "execution_count": 57,
   "metadata": {},
   "outputs": [
    {
     "data": {
      "text/plain": [
       "[-1.2069218783882132, 12, 143]"
      ]
     },
     "execution_count": 57,
     "metadata": {},
     "output_type": "execute_result"
    }
   ],
   "source": [
    "best_params = r.x\n",
    "best_params"
   ]
  },
  {
   "cell_type": "markdown",
   "metadata": {},
   "source": [
    "## Submit To Kaggle For Real Test Data"
   ]
  },
  {
   "cell_type": "code",
   "execution_count": 66,
   "metadata": {},
   "outputs": [],
   "source": [
    "X_submit = pd.read_csv(\"test.csv\")"
   ]
  },
  {
   "cell_type": "code",
   "execution_count": 67,
   "metadata": {},
   "outputs": [],
   "source": [
    "drop_features = ['MSSubClass', 'MSZoning', 'Street', 'Alley', 'LotShape', 'LandContour',\n",
    "                 'Utilities', 'LotConfig', 'LandSlope', 'Neighborhood', 'Condition1', \n",
    "                 'Condition2', 'RoofMatl', 'Exterior1st', 'Exterior2nd', 'MasVnrType', \n",
    "                 'ExterQual', 'ExterCond', 'Foundation', 'BsmtQual', 'BsmtCond', 'BsmtExposure', \n",
    "                 'BsmtFinType1', 'BsmtFinSF1', 'BsmtFinType2', 'BsmtFinSF2', 'BsmtUnfSF',\n",
    "                 'Heating', 'HeatingQC', 'CentralAir', 'Electrical', 'LowQualFinSF', 'BsmtFullBath',\n",
    "                 'BsmtHalfBath', 'FullBath', 'HalfBath', 'KitchenQual', 'Functional', 'Fireplaces', \n",
    "                 'FireplaceQu', 'GarageType', 'GarageFinish', 'GarageCond', 'PavedDrive', \n",
    "                 'EnclosedPorch', '3SsnPorch', 'ScreenPorch', 'PoolArea', 'PoolQC', 'Fence', \n",
    "                 'MiscFeature', 'MiscVal', 'MoSold']"
   ]
  },
  {
   "cell_type": "code",
   "execution_count": 68,
   "metadata": {},
   "outputs": [],
   "source": [
    "X_submit.drop(X_submit[drop_features], axis=1, inplace=True)"
   ]
  },
  {
   "cell_type": "code",
   "execution_count": 69,
   "metadata": {},
   "outputs": [],
   "source": [
    "X_submit[\"BldgType\"] = X_submit[\"BldgType\"].astype('category');\n",
    "X_submit[\"HouseStyle\"] = X_submit[\"HouseStyle\"].astype('category');\n",
    "X_submit[\"RoofStyle\"] = X_submit[\"RoofStyle\"].astype('category');\n",
    "X_submit[\"GarageQual\"] = X_submit[\"GarageQual\"].astype('category');\n",
    "X_submit[\"SaleCondition\"] = X_submit[\"SaleCondition\"].astype('category');\n",
    "X_submit[\"SaleType\"] = X_submit[\"SaleType\"].astype('category');"
   ]
  },
  {
   "cell_type": "code",
   "execution_count": 70,
   "metadata": {},
   "outputs": [
    {
     "data": {
      "text/plain": [
       "Id                  int64\n",
       "LotFrontage       float64\n",
       "LotArea             int64\n",
       "BldgType         category\n",
       "HouseStyle       category\n",
       "OverallQual         int64\n",
       "OverallCond         int64\n",
       "YearBuilt           int64\n",
       "YearRemodAdd        int64\n",
       "RoofStyle        category\n",
       "MasVnrArea        float64\n",
       "TotalBsmtSF       float64\n",
       "1stFlrSF            int64\n",
       "2ndFlrSF            int64\n",
       "GrLivArea           int64\n",
       "BedroomAbvGr        int64\n",
       "KitchenAbvGr        int64\n",
       "TotRmsAbvGrd        int64\n",
       "GarageYrBlt       float64\n",
       "GarageCars        float64\n",
       "GarageArea        float64\n",
       "GarageQual       category\n",
       "WoodDeckSF          int64\n",
       "OpenPorchSF         int64\n",
       "YrSold              int64\n",
       "SaleType         category\n",
       "SaleCondition    category\n",
       "dtype: object"
      ]
     },
     "execution_count": 70,
     "metadata": {},
     "output_type": "execute_result"
    }
   ],
   "source": [
    "X_submit.dtypes"
   ]
  },
  {
   "cell_type": "code",
   "execution_count": 71,
   "metadata": {},
   "outputs": [
    {
     "name": "stdout",
     "output_type": "stream",
     "text": [
      "Checking Feature Positins In Training vs Test data\n",
      "Index(['Id', 'LotFrontage', 'LotArea', 'BldgType', 'HouseStyle', 'OverallQual',\n",
      "       'OverallCond', 'YearBuilt', 'YearRemodAdd', 'RoofStyle', 'MasVnrArea',\n",
      "       'TotalBsmtSF', '1stFlrSF', '2ndFlrSF', 'GrLivArea', 'BedroomAbvGr',\n",
      "       'KitchenAbvGr', 'TotRmsAbvGrd', 'GarageYrBlt', 'GarageCars',\n",
      "       'GarageArea', 'GarageQual', 'WoodDeckSF', 'OpenPorchSF', 'YrSold',\n",
      "       'SaleType', 'SaleCondition'],\n",
      "      dtype='object')\n",
      "Index(['Id', 'LotFrontage', 'LotArea', 'BldgType', 'HouseStyle', 'OverallQual',\n",
      "       'OverallCond', 'YearBuilt', 'YearRemodAdd', 'RoofStyle', 'MasVnrArea',\n",
      "       'TotalBsmtSF', '1stFlrSF', '2ndFlrSF', 'GrLivArea', 'BedroomAbvGr',\n",
      "       'KitchenAbvGr', 'TotRmsAbvGrd', 'GarageYrBlt', 'GarageCars',\n",
      "       'GarageArea', 'GarageQual', 'WoodDeckSF', 'OpenPorchSF', 'YrSold',\n",
      "       'SaleType', 'SaleCondition'],\n",
      "      dtype='object')\n",
      "False\n"
     ]
    }
   ],
   "source": [
    "print(\"Checking Feature Positins In Training vs Test data\")\n",
    "print(X_train.columns)\n",
    "print(X_submit.columns)\n",
    "print(False in (X_train.columns == X_submit.columns))\n"
   ]
  },
  {
   "cell_type": "code",
   "execution_count": 72,
   "metadata": {
    "scrolled": true
   },
   "outputs": [],
   "source": [
    "Y_lgbm_submit = final_lgbm.predict(X_submit)\n"
   ]
  },
  {
   "cell_type": "code",
   "execution_count": 73,
   "metadata": {},
   "outputs": [],
   "source": [
    "lgbm_submit = pd.DataFrame(list(zip(X_submit['Id'],Y_lgbm_submit)),columns=['Id','SalePrice'])"
   ]
  },
  {
   "cell_type": "code",
   "execution_count": 74,
   "metadata": {},
   "outputs": [],
   "source": [
    "lgbm_submit.to_csv(\"housing_lgbm_submit.csv\",index=False)"
   ]
  },
  {
   "cell_type": "markdown",
   "metadata": {},
   "source": [
    "# FINAL RESULT"
   ]
  },
  {
   "cell_type": "markdown",
   "metadata": {},
   "source": [
    "## LightGBM w AutoTuning"
   ]
  },
  {
   "cell_type": "markdown",
   "metadata": {},
   "source": [
    "![lr](lgbm_housing_2817.png)"
   ]
  },
  {
   "cell_type": "markdown",
   "metadata": {},
   "source": [
    "# Thank You!"
   ]
  },
  {
   "cell_type": "code",
   "execution_count": null,
   "metadata": {},
   "outputs": [],
   "source": []
  }
 ],
 "metadata": {
  "kernelspec": {
   "display_name": "Python 3",
   "language": "python",
   "name": "python3"
  },
  "language_info": {
   "codemirror_mode": {
    "name": "ipython",
    "version": 3
   },
   "file_extension": ".py",
   "mimetype": "text/x-python",
   "name": "python",
   "nbconvert_exporter": "python",
   "pygments_lexer": "ipython3",
   "version": "3.6.5"
  }
 },
 "nbformat": 4,
 "nbformat_minor": 2
}
